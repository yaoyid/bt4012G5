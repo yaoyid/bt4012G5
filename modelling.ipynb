{
 "cells": [
  {
   "cell_type": "code",
   "execution_count": 111,
   "metadata": {},
   "outputs": [],
   "source": [
    "import numpy as np\n",
    "import pandas as pd\n",
    "import matplotlib.pyplot as plt\n",
    "import seaborn as sns\n",
    "import sklearn\n",
    "import warnings\n",
    "warnings.filterwarnings('ignore')\n",
    "pd.set_option('display.max_columns', 500)"
   ]
  },
  {
   "cell_type": "code",
   "execution_count": 112,
   "metadata": {},
   "outputs": [
    {
     "data": {
      "text/html": [
       "<div>\n",
       "<style scoped>\n",
       "    .dataframe tbody tr th:only-of-type {\n",
       "        vertical-align: middle;\n",
       "    }\n",
       "\n",
       "    .dataframe tbody tr th {\n",
       "        vertical-align: top;\n",
       "    }\n",
       "\n",
       "    .dataframe thead th {\n",
       "        text-align: right;\n",
       "    }\n",
       "</style>\n",
       "<table border=\"1\" class=\"dataframe\">\n",
       "  <thead>\n",
       "    <tr style=\"text-align: right;\">\n",
       "      <th></th>\n",
       "      <th>title</th>\n",
       "      <th>location</th>\n",
       "      <th>department</th>\n",
       "      <th>company_profile</th>\n",
       "      <th>description</th>\n",
       "      <th>requirements</th>\n",
       "      <th>benefits</th>\n",
       "      <th>telecommuting</th>\n",
       "      <th>has_company_logo</th>\n",
       "      <th>has_questions</th>\n",
       "      <th>employment_type</th>\n",
       "      <th>required_experience</th>\n",
       "      <th>required_education</th>\n",
       "      <th>industry</th>\n",
       "      <th>function</th>\n",
       "      <th>fraudulent</th>\n",
       "      <th>in_balanced_dataset</th>\n",
       "    </tr>\n",
       "  </thead>\n",
       "  <tbody>\n",
       "    <tr>\n",
       "      <th>0</th>\n",
       "      <td>Marketing Intern</td>\n",
       "      <td>US, NY, New York</td>\n",
       "      <td>Marketing</td>\n",
       "      <td>food52 created groundbreaking award winning co...</td>\n",
       "      <td>food52 fast growing james beard award winning ...</td>\n",
       "      <td>experience content management system major plu...</td>\n",
       "      <td>NaN</td>\n",
       "      <td>0</td>\n",
       "      <td>1</td>\n",
       "      <td>0</td>\n",
       "      <td>2</td>\n",
       "      <td>4</td>\n",
       "      <td>9</td>\n",
       "      <td>Other</td>\n",
       "      <td>Marketing</td>\n",
       "      <td>0</td>\n",
       "      <td>0</td>\n",
       "    </tr>\n",
       "    <tr>\n",
       "      <th>1</th>\n",
       "      <td>Customer Service - Cloud Video Production</td>\n",
       "      <td>NZ, , Auckland</td>\n",
       "      <td>Success</td>\n",
       "      <td>90 second world cloud video production service...</td>\n",
       "      <td>organised focused vibrant awesome passion cust...</td>\n",
       "      <td>expect key responsibility communicate client 9...</td>\n",
       "      <td>get u part 90 second team gain experience work...</td>\n",
       "      <td>0</td>\n",
       "      <td>1</td>\n",
       "      <td>0</td>\n",
       "      <td>1</td>\n",
       "      <td>6</td>\n",
       "      <td>9</td>\n",
       "      <td>Marketing and Advertising</td>\n",
       "      <td>Customer Service</td>\n",
       "      <td>0</td>\n",
       "      <td>0</td>\n",
       "    </tr>\n",
       "    <tr>\n",
       "      <th>2</th>\n",
       "      <td>Commissioning Machinery Assistant (CMA)</td>\n",
       "      <td>US, IA, Wever</td>\n",
       "      <td>NaN</td>\n",
       "      <td>valor service provides workforce solution meet...</td>\n",
       "      <td>client located houston actively seeking experi...</td>\n",
       "      <td>implement pre commissioning commissioning proc...</td>\n",
       "      <td>NaN</td>\n",
       "      <td>0</td>\n",
       "      <td>1</td>\n",
       "      <td>0</td>\n",
       "      <td>2</td>\n",
       "      <td>6</td>\n",
       "      <td>9</td>\n",
       "      <td>Other</td>\n",
       "      <td>Other</td>\n",
       "      <td>0</td>\n",
       "      <td>0</td>\n",
       "    </tr>\n",
       "    <tr>\n",
       "      <th>3</th>\n",
       "      <td>Account Executive - Washington DC</td>\n",
       "      <td>US, DC, Washington</td>\n",
       "      <td>Sales</td>\n",
       "      <td>passion improving quality life geography heart...</td>\n",
       "      <td>company esri environmental system research ins...</td>\n",
       "      <td>education bachelor master gi business administ...</td>\n",
       "      <td>culture anything corporate collaborative creat...</td>\n",
       "      <td>0</td>\n",
       "      <td>1</td>\n",
       "      <td>0</td>\n",
       "      <td>1</td>\n",
       "      <td>5</td>\n",
       "      <td>1</td>\n",
       "      <td>Computer Software</td>\n",
       "      <td>Sales</td>\n",
       "      <td>0</td>\n",
       "      <td>0</td>\n",
       "    </tr>\n",
       "    <tr>\n",
       "      <th>4</th>\n",
       "      <td>Bill Review Manager</td>\n",
       "      <td>US, FL, Fort Worth</td>\n",
       "      <td>NaN</td>\n",
       "      <td>spotsource solution llc global human capital m...</td>\n",
       "      <td>job title itemization review manager location ...</td>\n",
       "      <td>qualification rn license state texas diploma b...</td>\n",
       "      <td>full benefit offered</td>\n",
       "      <td>0</td>\n",
       "      <td>1</td>\n",
       "      <td>1</td>\n",
       "      <td>1</td>\n",
       "      <td>5</td>\n",
       "      <td>1</td>\n",
       "      <td>Hospital &amp; Health Care</td>\n",
       "      <td>Health Care Provider</td>\n",
       "      <td>0</td>\n",
       "      <td>0</td>\n",
       "    </tr>\n",
       "  </tbody>\n",
       "</table>\n",
       "</div>"
      ],
      "text/plain": [
       "                                       title            location department  \\\n",
       "0                           Marketing Intern    US, NY, New York  Marketing   \n",
       "1  Customer Service - Cloud Video Production      NZ, , Auckland    Success   \n",
       "2    Commissioning Machinery Assistant (CMA)       US, IA, Wever        NaN   \n",
       "3          Account Executive - Washington DC  US, DC, Washington      Sales   \n",
       "4                        Bill Review Manager  US, FL, Fort Worth        NaN   \n",
       "\n",
       "                                     company_profile  \\\n",
       "0  food52 created groundbreaking award winning co...   \n",
       "1  90 second world cloud video production service...   \n",
       "2  valor service provides workforce solution meet...   \n",
       "3  passion improving quality life geography heart...   \n",
       "4  spotsource solution llc global human capital m...   \n",
       "\n",
       "                                         description  \\\n",
       "0  food52 fast growing james beard award winning ...   \n",
       "1  organised focused vibrant awesome passion cust...   \n",
       "2  client located houston actively seeking experi...   \n",
       "3  company esri environmental system research ins...   \n",
       "4  job title itemization review manager location ...   \n",
       "\n",
       "                                        requirements  \\\n",
       "0  experience content management system major plu...   \n",
       "1  expect key responsibility communicate client 9...   \n",
       "2  implement pre commissioning commissioning proc...   \n",
       "3  education bachelor master gi business administ...   \n",
       "4  qualification rn license state texas diploma b...   \n",
       "\n",
       "                                            benefits  telecommuting  \\\n",
       "0                                                NaN              0   \n",
       "1  get u part 90 second team gain experience work...              0   \n",
       "2                                                NaN              0   \n",
       "3  culture anything corporate collaborative creat...              0   \n",
       "4                               full benefit offered              0   \n",
       "\n",
       "   has_company_logo  has_questions  employment_type  required_experience  \\\n",
       "0                 1              0                2                    4   \n",
       "1                 1              0                1                    6   \n",
       "2                 1              0                2                    6   \n",
       "3                 1              0                1                    5   \n",
       "4                 1              1                1                    5   \n",
       "\n",
       "   required_education                   industry              function  \\\n",
       "0                   9                      Other             Marketing   \n",
       "1                   9  Marketing and Advertising      Customer Service   \n",
       "2                   9                      Other                 Other   \n",
       "3                   1          Computer Software                 Sales   \n",
       "4                   1     Hospital & Health Care  Health Care Provider   \n",
       "\n",
       "   fraudulent  in_balanced_dataset  \n",
       "0           0                    0  \n",
       "1           0                    0  \n",
       "2           0                    0  \n",
       "3           0                    0  \n",
       "4           0                    0  "
      ]
     },
     "execution_count": 112,
     "metadata": {},
     "output_type": "execute_result"
    }
   ],
   "source": [
    "# Load the data and check the first few lines\n",
    "dataset_path = \"preprocessed_emscad_v1.csv\" # use your own path\n",
    "\n",
    "dataset = pd.read_csv(dataset_path)\n",
    "dataset.head()"
   ]
  },
  {
   "cell_type": "code",
   "execution_count": 113,
   "metadata": {},
   "outputs": [
    {
     "name": "stdout",
     "output_type": "stream",
     "text": [
      "<class 'pandas.core.frame.DataFrame'>\n",
      "RangeIndex: 17880 entries, 0 to 17879\n",
      "Data columns (total 17 columns):\n",
      " #   Column               Non-Null Count  Dtype \n",
      "---  ------               --------------  ----- \n",
      " 0   title                17880 non-null  object\n",
      " 1   location             17534 non-null  object\n",
      " 2   department           6333 non-null   object\n",
      " 3   company_profile      14572 non-null  object\n",
      " 4   description          17879 non-null  object\n",
      " 5   requirements         15176 non-null  object\n",
      " 6   benefits             10648 non-null  object\n",
      " 7   telecommuting        17880 non-null  int64 \n",
      " 8   has_company_logo     17880 non-null  int64 \n",
      " 9   has_questions        17880 non-null  int64 \n",
      " 10  employment_type      17880 non-null  int64 \n",
      " 11  required_experience  17880 non-null  int64 \n",
      " 12  required_education   17880 non-null  int64 \n",
      " 13  industry             17880 non-null  object\n",
      " 14  function             17880 non-null  object\n",
      " 15  fraudulent           17880 non-null  int64 \n",
      " 16  in_balanced_dataset  17880 non-null  int64 \n",
      "dtypes: int64(8), object(9)\n",
      "memory usage: 2.3+ MB\n"
     ]
    }
   ],
   "source": [
    "dataset.info()"
   ]
  },
  {
   "cell_type": "code",
   "execution_count": 114,
   "metadata": {},
   "outputs": [
    {
     "data": {
      "text/plain": [
       "(17880, 17)"
      ]
     },
     "execution_count": 114,
     "metadata": {},
     "output_type": "execute_result"
    }
   ],
   "source": [
    "dataset.shape"
   ]
  },
  {
   "cell_type": "code",
   "execution_count": 115,
   "metadata": {},
   "outputs": [
    {
     "data": {
      "text/html": [
       "<div>\n",
       "<style scoped>\n",
       "    .dataframe tbody tr th:only-of-type {\n",
       "        vertical-align: middle;\n",
       "    }\n",
       "\n",
       "    .dataframe tbody tr th {\n",
       "        vertical-align: top;\n",
       "    }\n",
       "\n",
       "    .dataframe thead th {\n",
       "        text-align: right;\n",
       "    }\n",
       "</style>\n",
       "<table border=\"1\" class=\"dataframe\">\n",
       "  <thead>\n",
       "    <tr style=\"text-align: right;\">\n",
       "      <th></th>\n",
       "      <th>title</th>\n",
       "      <th>location</th>\n",
       "      <th>department</th>\n",
       "      <th>company_profile</th>\n",
       "      <th>description</th>\n",
       "      <th>requirements</th>\n",
       "      <th>benefits</th>\n",
       "      <th>telecommuting</th>\n",
       "      <th>has_company_logo</th>\n",
       "      <th>has_questions</th>\n",
       "      <th>employment_type</th>\n",
       "      <th>required_experience</th>\n",
       "      <th>required_education</th>\n",
       "      <th>industry</th>\n",
       "      <th>function</th>\n",
       "      <th>fraudulent</th>\n",
       "      <th>in_balanced_dataset</th>\n",
       "    </tr>\n",
       "  </thead>\n",
       "  <tbody>\n",
       "    <tr>\n",
       "      <th>False</th>\n",
       "      <td>17880.0</td>\n",
       "      <td>17534</td>\n",
       "      <td>6333</td>\n",
       "      <td>14572</td>\n",
       "      <td>17879</td>\n",
       "      <td>15176</td>\n",
       "      <td>10648</td>\n",
       "      <td>17880.0</td>\n",
       "      <td>17880.0</td>\n",
       "      <td>17880.0</td>\n",
       "      <td>17880.0</td>\n",
       "      <td>17880.0</td>\n",
       "      <td>17880.0</td>\n",
       "      <td>17880.0</td>\n",
       "      <td>17880.0</td>\n",
       "      <td>17880.0</td>\n",
       "      <td>17880.0</td>\n",
       "    </tr>\n",
       "    <tr>\n",
       "      <th>True</th>\n",
       "      <td>NaN</td>\n",
       "      <td>346</td>\n",
       "      <td>11547</td>\n",
       "      <td>3308</td>\n",
       "      <td>1</td>\n",
       "      <td>2704</td>\n",
       "      <td>7232</td>\n",
       "      <td>NaN</td>\n",
       "      <td>NaN</td>\n",
       "      <td>NaN</td>\n",
       "      <td>NaN</td>\n",
       "      <td>NaN</td>\n",
       "      <td>NaN</td>\n",
       "      <td>NaN</td>\n",
       "      <td>NaN</td>\n",
       "      <td>NaN</td>\n",
       "      <td>NaN</td>\n",
       "    </tr>\n",
       "  </tbody>\n",
       "</table>\n",
       "</div>"
      ],
      "text/plain": [
       "         title  location  department  company_profile  description  \\\n",
       "False  17880.0     17534        6333            14572        17879   \n",
       "True       NaN       346       11547             3308            1   \n",
       "\n",
       "       requirements  benefits  telecommuting  has_company_logo  has_questions  \\\n",
       "False         15176     10648        17880.0           17880.0        17880.0   \n",
       "True           2704      7232            NaN               NaN            NaN   \n",
       "\n",
       "       employment_type  required_experience  required_education  industry  \\\n",
       "False          17880.0              17880.0             17880.0   17880.0   \n",
       "True               NaN                  NaN                 NaN       NaN   \n",
       "\n",
       "       function  fraudulent  in_balanced_dataset  \n",
       "False   17880.0     17880.0              17880.0  \n",
       "True        NaN         NaN                  NaN  "
      ]
     },
     "execution_count": 115,
     "metadata": {},
     "output_type": "execute_result"
    }
   ],
   "source": [
    "dataset.isna().apply(pd.value_counts)"
   ]
  },
  {
   "cell_type": "code",
   "execution_count": 116,
   "metadata": {},
   "outputs": [
    {
     "name": "stdout",
     "output_type": "stream",
     "text": [
      "number of duplicated rows is 329\n"
     ]
    }
   ],
   "source": [
    "#check for duplicate values\n",
    "number_of_duplicaes = dataset.duplicated().sum()\n",
    "print('number of duplicated rows is {}'.format(number_of_duplicaes) )"
   ]
  },
  {
   "cell_type": "code",
   "execution_count": 117,
   "metadata": {},
   "outputs": [
    {
     "data": {
      "text/plain": [
       "0"
      ]
     },
     "execution_count": 117,
     "metadata": {},
     "output_type": "execute_result"
    }
   ],
   "source": [
    "dataset.drop_duplicates(inplace=True)\n",
    "dataset.duplicated().sum()"
   ]
  },
  {
   "cell_type": "code",
   "execution_count": 118,
   "metadata": {},
   "outputs": [
    {
     "data": {
      "text/plain": [
       "0    16693\n",
       "1      858\n",
       "Name: fraudulent, dtype: int64"
      ]
     },
     "execution_count": 118,
     "metadata": {},
     "output_type": "execute_result"
    }
   ],
   "source": [
    "dataset['fraudulent'].value_counts()"
   ]
  },
  {
   "cell_type": "code",
   "execution_count": 119,
   "metadata": {},
   "outputs": [
    {
     "data": {
      "text/plain": [
       "title                   0.000000\n",
       "location                1.942909\n",
       "department             64.326819\n",
       "company_profile        18.642812\n",
       "description             0.005698\n",
       "                         ...    \n",
       "required_education      0.000000\n",
       "industry                0.000000\n",
       "function                0.000000\n",
       "fraudulent              0.000000\n",
       "in_balanced_dataset     0.000000\n",
       "Length: 17, dtype: float64"
      ]
     },
     "execution_count": 119,
     "metadata": {},
     "output_type": "execute_result"
    }
   ],
   "source": [
    "# the whole dataset: find out the percentgae of values missing\n",
    "total_missing_percentage = dataset.isnull().sum() * 100 / len(dataset)\n",
    "total_missing_percentage"
   ]
  },
  {
   "cell_type": "code",
   "execution_count": 120,
   "metadata": {},
   "outputs": [],
   "source": [
    "dataset['missing location'] = dataset['location'].apply(lambda x: 1 if pd.isna(x) else 0)\n",
    "dataset['missing department'] = dataset['department'].apply(lambda x: 1 if pd.isna(x) else 0)\n",
    "dataset['missing company profile'] = dataset['company_profile'].apply(lambda x: 1 if pd.isna(x) else 0)\n",
    "dataset['missing job description'] = dataset['description'].apply(lambda x: 1 if pd.isna(x) else 0)\n",
    "dataset['missing requirements'] = dataset['requirements'].apply(lambda x: 1 if pd.isna(x) else 0)\n",
    "dataset['missing benefits'] = dataset['benefits'].apply(lambda x: 1 if pd.isna(x) else 0)"
   ]
  },
  {
   "cell_type": "code",
   "execution_count": 121,
   "metadata": {},
   "outputs": [
    {
     "data": {
      "text/plain": [
       "<AxesSubplot:xlabel='telecommuting', ylabel='count'>"
      ]
     },
     "execution_count": 121,
     "metadata": {},
     "output_type": "execute_result"
    },
    {
     "data": {
      "image/png": "[encoded data removed]",
      "text/plain": [
       "<Figure size 640x480 with 1 Axes>"
      ]
     },
     "metadata": {},
     "output_type": "display_data"
    }
   ],
   "source": [
    "sns.countplot(x = 'telecommuting', hue = 'fraudulent', data = dataset)"
   ]
  },
  {
   "cell_type": "code",
   "execution_count": 122,
   "metadata": {},
   "outputs": [
    {
     "data": {
      "text/plain": [
       "<AxesSubplot:xlabel='has_company_logo', ylabel='count'>"
      ]
     },
     "execution_count": 122,
     "metadata": {},
     "output_type": "execute_result"
    },
    {
     "data": {
      "image/png": "[encoded data removed]",
      "text/plain": [
       "<Figure size 640x480 with 1 Axes>"
      ]
     },
     "metadata": {},
     "output_type": "display_data"
    }
   ],
   "source": [
    "sns.countplot(x = 'has_company_logo', hue = 'fraudulent', data = dataset)"
   ]
  },
  {
   "cell_type": "code",
   "execution_count": 123,
   "metadata": {},
   "outputs": [
    {
     "data": {
      "text/plain": [
       "<AxesSubplot:xlabel='has_questions', ylabel='count'>"
      ]
     },
     "execution_count": 123,
     "metadata": {},
     "output_type": "execute_result"
    },
    {
     "data": {
      "image/png": "[encoded data removed]",
      "text/plain": [
       "<Figure size 640x480 with 1 Axes>"
      ]
     },
     "metadata": {},
     "output_type": "display_data"
    }
   ],
   "source": [
    "sns.countplot(x = 'has_questions', hue = 'fraudulent', data = dataset)"
   ]
  },
  {
   "cell_type": "code",
   "execution_count": 124,
   "metadata": {},
   "outputs": [
    {
     "data": {
      "text/plain": [
       "<AxesSubplot:xlabel='employment_type', ylabel='count'>"
      ]
     },
     "execution_count": 124,
     "metadata": {},
     "output_type": "execute_result"
    },
    {
     "data": {
      "image/png": "[encoded data removed]",
      "text/plain": [
       "<Figure size 640x480 with 1 Axes>"
      ]
     },
     "metadata": {},
     "output_type": "display_data"
    }
   ],
   "source": [
    "sns.countplot(x = 'employment_type', hue = 'fraudulent', data = dataset)"
   ]
  },
  {
   "cell_type": "code",
   "execution_count": 125,
   "metadata": {},
   "outputs": [
    {
     "data": {
      "text/plain": [
       "<AxesSubplot:xlabel='required_experience', ylabel='count'>"
      ]
     },
     "execution_count": 125,
     "metadata": {},
     "output_type": "execute_result"
    },
    {
     "data": {
      "image/png": "[encoded data removed]",
      "text/plain": [
       "<Figure size 640x480 with 1 Axes>"
      ]
     },
     "metadata": {},
     "output_type": "display_data"
    }
   ],
   "source": [
    "sns.countplot(x = 'required_experience', hue = 'fraudulent', data = dataset)"
   ]
  },
  {
   "cell_type": "code",
   "execution_count": 126,
   "metadata": {},
   "outputs": [
    {
     "data": {
      "text/plain": [
       "<AxesSubplot:xlabel='required_education', ylabel='count'>"
      ]
     },
     "execution_count": 126,
     "metadata": {},
     "output_type": "execute_result"
    },
    {
     "data": {
      "image/png": "[encoded data removed]",
      "text/plain": [
       "<Figure size 640x480 with 1 Axes>"
      ]
     },
     "metadata": {},
     "output_type": "display_data"
    }
   ],
   "source": [
    "sns.countplot(x = 'required_education', hue = 'fraudulent', data = dataset)"
   ]
  },
  {
   "cell_type": "code",
   "execution_count": 127,
   "metadata": {},
   "outputs": [
    {
     "data": {
      "text/plain": [
       "<AxesSubplot:xlabel='industry', ylabel='count'>"
      ]
     },
     "execution_count": 127,
     "metadata": {},
     "output_type": "execute_result"
    },
    {
     "data": {
      "image/png": "[encoded data removed]",
      "text/plain": [
       "<Figure size 640x480 with 1 Axes>"
      ]
     },
     "metadata": {},
     "output_type": "display_data"
    }
   ],
   "source": [
    "sns.countplot(x = 'industry', hue = 'fraudulent', data = dataset)"
   ]
  },
  {
   "cell_type": "code",
   "execution_count": 128,
   "metadata": {},
   "outputs": [
    {
     "data": {
      "text/plain": [
       "<AxesSubplot:xlabel='function', ylabel='count'>"
      ]
     },
     "execution_count": 128,
     "metadata": {},
     "output_type": "execute_result"
    },
    {
     "data": {
      "image/png": "[encoded data removed]",
      "text/plain": [
       "<Figure size 640x480 with 1 Axes>"
      ]
     },
     "metadata": {},
     "output_type": "display_data"
    }
   ],
   "source": [
    "sns.countplot(x = 'function', hue = 'fraudulent', data = dataset)"
   ]
  },
  {
   "cell_type": "code",
   "execution_count": 129,
   "metadata": {},
   "outputs": [
    {
     "data": {
      "text/plain": [
       "<AxesSubplot:xlabel='in_balanced_dataset', ylabel='count'>"
      ]
     },
     "execution_count": 129,
     "metadata": {},
     "output_type": "execute_result"
    },
    {
     "data": {
      "image/png": "[encoded data removed]",
      "text/plain": [
       "<Figure size 640x480 with 1 Axes>"
      ]
     },
     "metadata": {},
     "output_type": "display_data"
    }
   ],
   "source": [
    "sns.countplot(x = 'in_balanced_dataset', hue = 'fraudulent', data = dataset)"
   ]
  },
  {
   "cell_type": "code",
   "execution_count": 130,
   "metadata": {},
   "outputs": [
    {
     "data": {
      "text/plain": [
       "<AxesSubplot:xlabel='missing location', ylabel='count'>"
      ]
     },
     "execution_count": 130,
     "metadata": {},
     "output_type": "execute_result"
    },
    {
     "data": {
      "image/png": "[encoded data removed]",
      "text/plain": [
       "<Figure size 640x480 with 1 Axes>"
      ]
     },
     "metadata": {},
     "output_type": "display_data"
    }
   ],
   "source": [
    "sns.countplot(x = 'missing location', hue = 'fraudulent', data = dataset)"
   ]
  },
  {
   "cell_type": "code",
   "execution_count": 131,
   "metadata": {},
   "outputs": [
    {
     "data": {
      "text/plain": [
       "<AxesSubplot:xlabel='missing department', ylabel='count'>"
      ]
     },
     "execution_count": 131,
     "metadata": {},
     "output_type": "execute_result"
    },
    {
     "data": {
      "image/png": "[encoded data removed]",
      "text/plain": [
       "<Figure size 640x480 with 1 Axes>"
      ]
     },
     "metadata": {},
     "output_type": "display_data"
    }
   ],
   "source": [
    "sns.countplot(x = 'missing department', hue = 'fraudulent', data = dataset)"
   ]
  },
  {
   "cell_type": "code",
   "execution_count": 132,
   "metadata": {},
   "outputs": [
    {
     "data": {
      "text/plain": [
       "<AxesSubplot:xlabel='missing company profile', ylabel='count'>"
      ]
     },
     "execution_count": 132,
     "metadata": {},
     "output_type": "execute_result"
    },
    {
     "data": {
      "image/png": "[encoded data removed]",
      "text/plain": [
       "<Figure size 640x480 with 1 Axes>"
      ]
     },
     "metadata": {},
     "output_type": "display_data"
    }
   ],
   "source": [
    "sns.countplot(x = 'missing company profile', hue = 'fraudulent', data = dataset)"
   ]
  },
  {
   "cell_type": "code",
   "execution_count": 133,
   "metadata": {},
   "outputs": [
    {
     "data": {
      "text/plain": [
       "<AxesSubplot:xlabel='missing job description', ylabel='count'>"
      ]
     },
     "execution_count": 133,
     "metadata": {},
     "output_type": "execute_result"
    },
    {
     "data": {
      "image/png": "[encoded data removed]",
      "text/plain": [
       "<Figure size 640x480 with 1 Axes>"
      ]
     },
     "metadata": {},
     "output_type": "display_data"
    }
   ],
   "source": [
    "sns.countplot(x = 'missing job description', hue = 'fraudulent', data = dataset)"
   ]
  },
  {
   "cell_type": "code",
   "execution_count": 134,
   "metadata": {},
   "outputs": [
    {
     "data": {
      "text/plain": [
       "<AxesSubplot:xlabel='missing requirements', ylabel='count'>"
      ]
     },
     "execution_count": 134,
     "metadata": {},
     "output_type": "execute_result"
    },
    {
     "data": {
      "image/png": "[encoded data removed]",
      "text/plain": [
       "<Figure size 640x480 with 1 Axes>"
      ]
     },
     "metadata": {},
     "output_type": "display_data"
    }
   ],
   "source": [
    "sns.countplot(x = 'missing requirements', hue = 'fraudulent', data = dataset)"
   ]
  },
  {
   "cell_type": "code",
   "execution_count": 135,
   "metadata": {},
   "outputs": [
    {
     "data": {
      "text/plain": [
       "<AxesSubplot:xlabel='missing benefits', ylabel='count'>"
      ]
     },
     "execution_count": 135,
     "metadata": {},
     "output_type": "execute_result"
    },
    {
     "data": {
      "image/png": "[encoded data removed]",
      "text/plain": [
       "<Figure size 640x480 with 1 Axes>"
      ]
     },
     "metadata": {},
     "output_type": "display_data"
    }
   ],
   "source": [
    "sns.countplot(x = 'missing benefits', hue = 'fraudulent', data = dataset)"
   ]
  },
  {
   "cell_type": "code",
   "execution_count": 136,
   "metadata": {},
   "outputs": [
    {
     "name": "stdout",
     "output_type": "stream",
     "text": [
      "                         telecommuting  has_company_logo  has_questions  \\\n",
      "telecommuting                 1.000000         -0.021800       0.019121   \n",
      "has_company_logo             -0.021800          1.000000       0.234813   \n",
      "has_questions                 0.019121          0.234813       1.000000   \n",
      "employment_type              -0.024197         -0.032825      -0.031682   \n",
      "required_experience          -0.022622         -0.146467      -0.049841   \n",
      "required_education            0.017007         -0.167741      -0.111959   \n",
      "fraudulent                    0.035626         -0.260881      -0.091840   \n",
      "in_balanced_dataset           0.026564         -0.176768      -0.065054   \n",
      "missing location              0.013072          0.016573       0.001633   \n",
      "missing department           -0.021801         -0.127228      -0.138696   \n",
      "missing company profile       0.067946         -0.693521      -0.154577   \n",
      "missing job description      -0.001596          0.003845       0.007659   \n",
      "missing requirements         -0.036479         -0.258601      -0.217960   \n",
      "missing benefits             -0.052755         -0.195406      -0.277549   \n",
      "\n",
      "                         employment_type  required_experience  \\\n",
      "telecommuting                  -0.024197            -0.022622   \n",
      "has_company_logo               -0.032825            -0.146467   \n",
      "has_questions                  -0.031682            -0.049841   \n",
      "employment_type                 1.000000             0.131123   \n",
      "required_experience             0.131123             1.000000   \n",
      "required_education              0.301094             0.330656   \n",
      "fraudulent                      0.052606             0.035433   \n",
      "in_balanced_dataset             0.068343             0.016526   \n",
      "missing location                0.089039             0.072210   \n",
      "missing department             -0.048380             0.059792   \n",
      "missing company profile         0.071633             0.083588   \n",
      "missing job description        -0.002592             0.002595   \n",
      "missing requirements            0.112777             0.189295   \n",
      "missing benefits                0.115457             0.146286   \n",
      "\n",
      "                         required_education  fraudulent  in_balanced_dataset  \\\n",
      "telecommuting                      0.017007    0.035626             0.026564   \n",
      "has_company_logo                  -0.167741   -0.260881            -0.176768   \n",
      "has_questions                     -0.111959   -0.091840            -0.065054   \n",
      "employment_type                    0.301094    0.052606             0.068343   \n",
      "required_experience                0.330656    0.035433             0.016526   \n",
      "required_education                 1.000000    0.055085             0.062380   \n",
      "fraudulent                         0.055085    1.000000             0.481066   \n",
      "in_balanced_dataset                0.062380    0.481066             1.000000   \n",
      "missing location                   0.082124    0.004460             0.010571   \n",
      "missing department                 0.047443   -0.014851             0.019971   \n",
      "missing company profile            0.118259    0.285669             0.201171   \n",
      "missing job description           -0.009939    0.033295            -0.001749   \n",
      "missing requirements               0.243791    0.015094             0.026791   \n",
      "missing benefits                   0.196955    0.005767            -0.008900   \n",
      "\n",
      "                         missing location  missing department  \\\n",
      "telecommuting                    0.013072           -0.021801   \n",
      "has_company_logo                 0.016573           -0.127228   \n",
      "has_questions                    0.001633           -0.138696   \n",
      "employment_type                  0.089039           -0.048380   \n",
      "required_experience              0.072210            0.059792   \n",
      "required_education               0.082124            0.047443   \n",
      "fraudulent                       0.004460           -0.014851   \n",
      "in_balanced_dataset              0.010571            0.019971   \n",
      "missing location                 1.000000            0.060877   \n",
      "missing department               0.060877            1.000000   \n",
      "missing company profile         -0.002726            0.065426   \n",
      "missing job description         -0.001063           -0.010136   \n",
      "missing requirements             0.141249            0.111068   \n",
      "missing benefits                 0.094170            0.150533   \n",
      "\n",
      "                         missing company profile  missing job description  \\\n",
      "telecommuting                           0.067946                -0.001596   \n",
      "has_company_logo                       -0.693521                 0.003845   \n",
      "has_questions                          -0.154577                 0.007659   \n",
      "employment_type                         0.071633                -0.002592   \n",
      "required_experience                     0.083588                 0.002595   \n",
      "required_education                      0.118259                -0.009939   \n",
      "fraudulent                              0.285669                 0.033295   \n",
      "in_balanced_dataset                     0.201171                -0.001749   \n",
      "missing location                       -0.002726                -0.001063   \n",
      "missing department                      0.065426                -0.010136   \n",
      "missing company profile                 1.000000                -0.003613   \n",
      "missing job description                -0.003613                 1.000000   \n",
      "missing requirements                    0.103774                -0.003183   \n",
      "missing benefits                        0.100628                -0.006225   \n",
      "\n",
      "                         missing requirements  missing benefits  \n",
      "telecommuting                       -0.036479         -0.052755  \n",
      "has_company_logo                    -0.258601         -0.195406  \n",
      "has_questions                       -0.217960         -0.277549  \n",
      "employment_type                      0.112777          0.115457  \n",
      "required_experience                  0.189295          0.146286  \n",
      "required_education                   0.243791          0.196955  \n",
      "fraudulent                           0.015094          0.005767  \n",
      "in_balanced_dataset                  0.026791         -0.008900  \n",
      "missing location                     0.141249          0.094170  \n",
      "missing department                   0.111068          0.150533  \n",
      "missing company profile              0.103774          0.100628  \n",
      "missing job description             -0.003183         -0.006225  \n",
      "missing requirements                 1.000000          0.425159  \n",
      "missing benefits                     0.425159          1.000000  \n"
     ]
    },
    {
     "data": {
      "text/plain": [
       "<AxesSubplot:>"
      ]
     },
     "execution_count": 136,
     "metadata": {},
     "output_type": "execute_result"
    },
    {
     "data": {
      "image/png": "[encoded data removed]",
      "text/plain": [
       "<Figure size 1100x900 with 2 Axes>"
      ]
     },
     "metadata": {},
     "output_type": "display_data"
    }
   ],
   "source": [
    "# method 1: correlation plot\n",
    "corr = dataset.corr()\n",
    "print(corr)\n",
    "#Reduce to triangle\n",
    "mask = np.triu(np.ones_like(corr, dtype=bool))\n",
    "\n",
    "# Set up the matplotlib figure\n",
    "f, ax = plt.subplots(figsize=(11, 9))\n",
    "\n",
    "# Generate a custom diverging colormap\n",
    "cmap = sns.diverging_palette(230, 20, as_cmap=True)\n",
    "# Draw the heatmap with the mask and correct aspect ratio\n",
    "sns.heatmap(corr, mask=mask, cmap=cmap, vmax=.3, center=0,\n",
    "            square=True, linewidths=.5, cbar_kws={\"shrink\": .5})"
   ]
  },
  {
   "cell_type": "markdown",
   "metadata": {},
   "source": [
    "doesn't seem to have any variable that has very strong correlation with the target variable.  The most correlated independent variables would be has_company_logo(0.233), missing_company_profile(0.286).\n",
    "\n",
    "We might consider use has_company_logo and missing company profile as our model features"
   ]
  },
  {
   "cell_type": "code",
   "execution_count": 137,
   "metadata": {},
   "outputs": [
    {
     "data": {
      "text/plain": [
       "Index(['title', 'location', 'department', 'company_profile', 'description',\n",
       "       'requirements', 'benefits', 'telecommuting', 'has_company_logo',\n",
       "       'has_questions', 'employment_type', 'required_experience',\n",
       "       'required_education', 'industry', 'function', 'fraudulent',\n",
       "       'in_balanced_dataset', 'missing location', 'missing department',\n",
       "       'missing company profile', 'missing job description',\n",
       "       'missing requirements', 'missing benefits'],\n",
       "      dtype='object')"
      ]
     },
     "execution_count": 137,
     "metadata": {},
     "output_type": "execute_result"
    }
   ],
   "source": [
    "dataset.columns"
   ]
  },
  {
   "cell_type": "code",
   "execution_count": 138,
   "metadata": {},
   "outputs": [
    {
     "data": {
      "text/plain": [
       "array([ True,  True,  True,  True,  True,  True,  True, False, False,\n",
       "       False, False, False, False,  True,  True, False, False, False,\n",
       "       False, False, False, False, False])"
      ]
     },
     "execution_count": 138,
     "metadata": {},
     "output_type": "execute_result"
    }
   ],
   "source": [
    "dataset.columns.isin(['title', 'location', 'department', 'company_profile', 'description',\n",
    "       'requirements', 'benefits','industry', 'function'])"
   ]
  },
  {
   "cell_type": "code",
   "execution_count": 139,
   "metadata": {},
   "outputs": [
    {
     "data": {
      "text/html": [
       "<div>\n",
       "<style scoped>\n",
       "    .dataframe tbody tr th:only-of-type {\n",
       "        vertical-align: middle;\n",
       "    }\n",
       "\n",
       "    .dataframe tbody tr th {\n",
       "        vertical-align: top;\n",
       "    }\n",
       "\n",
       "    .dataframe thead th {\n",
       "        text-align: right;\n",
       "    }\n",
       "</style>\n",
       "<table border=\"1\" class=\"dataframe\">\n",
       "  <thead>\n",
       "    <tr style=\"text-align: right;\">\n",
       "      <th></th>\n",
       "      <th>fraudulent</th>\n",
       "    </tr>\n",
       "  </thead>\n",
       "  <tbody>\n",
       "    <tr>\n",
       "      <th>0</th>\n",
       "      <td>0</td>\n",
       "    </tr>\n",
       "    <tr>\n",
       "      <th>1</th>\n",
       "      <td>0</td>\n",
       "    </tr>\n",
       "    <tr>\n",
       "      <th>2</th>\n",
       "      <td>0</td>\n",
       "    </tr>\n",
       "    <tr>\n",
       "      <th>3</th>\n",
       "      <td>0</td>\n",
       "    </tr>\n",
       "    <tr>\n",
       "      <th>4</th>\n",
       "      <td>0</td>\n",
       "    </tr>\n",
       "    <tr>\n",
       "      <th>...</th>\n",
       "      <td>...</td>\n",
       "    </tr>\n",
       "    <tr>\n",
       "      <th>17875</th>\n",
       "      <td>0</td>\n",
       "    </tr>\n",
       "    <tr>\n",
       "      <th>17876</th>\n",
       "      <td>0</td>\n",
       "    </tr>\n",
       "    <tr>\n",
       "      <th>17877</th>\n",
       "      <td>0</td>\n",
       "    </tr>\n",
       "    <tr>\n",
       "      <th>17878</th>\n",
       "      <td>0</td>\n",
       "    </tr>\n",
       "    <tr>\n",
       "      <th>17879</th>\n",
       "      <td>0</td>\n",
       "    </tr>\n",
       "  </tbody>\n",
       "</table>\n",
       "<p>17551 rows × 1 columns</p>\n",
       "</div>"
      ],
      "text/plain": [
       "       fraudulent\n",
       "0               0\n",
       "1               0\n",
       "2               0\n",
       "3               0\n",
       "4               0\n",
       "...           ...\n",
       "17875           0\n",
       "17876           0\n",
       "17877           0\n",
       "17878           0\n",
       "17879           0\n",
       "\n",
       "[17551 rows x 1 columns]"
      ]
     },
     "execution_count": 139,
     "metadata": {},
     "output_type": "execute_result"
    }
   ],
   "source": [
    "num_features = dataset.loc[:,~dataset.columns.isin(['title', 'location', 'department', 'company_profile', 'description',\n",
    "       'requirements', 'benefits','industry', 'function', 'fraudulent', 'in_balanced_dataset'])]\n",
    "target = dataset[['fraudulent']]\n",
    "target"
   ]
  },
  {
   "cell_type": "code",
   "execution_count": 140,
   "metadata": {},
   "outputs": [
    {
     "name": "stdout",
     "output_type": "stream",
     "text": [
      "(array([2.13225400e+01, 2.46032187e+02, 7.50932820e+01, 2.05545383e+01,\n",
      "       2.51493513e+01, 1.21850603e+02, 3.42357150e-01, 1.38092700e+00,\n",
      "       1.16526608e+03, 1.94557110e+01, 3.39469187e+00, 3.47465092e-01]), array([3.88140801e-006, 1.90320619e-055, 4.48991461e-018, 5.79562258e-006,\n",
      "       5.30574971e-007, 2.48891497e-028, 5.58471780e-001, 2.39943308e-001,\n",
      "       2.15795231e-255, 1.02959525e-005, 6.54065828e-002, 5.55551599e-001]))\n",
      "missing location            5.584718e-01\n",
      "missing benefits            5.555516e-01\n",
      "missing department          2.399433e-01\n",
      "missing requirements        6.540658e-02\n",
      "missing job description     1.029595e-05\n",
      "employment_type             5.795623e-06\n",
      "telecommuting               3.881408e-06\n",
      "required_experience         5.305750e-07\n",
      "has_questions               4.489915e-18\n",
      "required_education          2.488915e-28\n",
      "has_company_logo            1.903206e-55\n",
      "missing company profile    2.157952e-255\n",
      "dtype: float64\n"
     ]
    },
    {
     "data": {
      "text/plain": [
       "<AxesSubplot:>"
      ]
     },
     "execution_count": 140,
     "metadata": {},
     "output_type": "execute_result"
    },
    {
     "data": {
      "image/png": "[encoded data removed]",
      "text/plain": [
       "<Figure size 640x480 with 1 Axes>"
      ]
     },
     "metadata": {},
     "output_type": "display_data"
    }
   ],
   "source": [
    "# 4. Feature Selections\n",
    "# Method 2. Chi-square\n",
    "\n",
    "from sklearn.feature_selection import chi2\n",
    "chi_scores = chi2(np.clip(num_features,0,10000000),target) # clip is to ensure no negative values\n",
    "print(chi_scores)\n",
    "\n",
    "p_values = pd.Series(chi_scores[1],index = num_features.columns)\n",
    "p_values.sort_values(ascending = False , inplace = True)\n",
    "\n",
    "print(p_values)\n",
    "p_values.plot.bar()\n"
   ]
  },
  {
   "cell_type": "markdown",
   "metadata": {},
   "source": [
    "From the chi-square test, all p-values are less than 0.05 except missing location, missing benefits, missing departments and missing requirements, thus these few variables seem to be dependent on the target feature "
   ]
  },
  {
   "cell_type": "code",
   "execution_count": 141,
   "metadata": {},
   "outputs": [
    {
     "data": {
      "text/plain": [
       "telecommuting              0.000000\n",
       "has_company_logo           0.029433\n",
       "has_questions              0.005356\n",
       "employment_type            0.004404\n",
       "required_experience        0.005353\n",
       "required_education         0.008803\n",
       "missing location           0.000000\n",
       "missing department         0.001187\n",
       "missing company profile    0.030893\n",
       "missing job description    0.000000\n",
       "missing requirements       0.002654\n",
       "missing benefits           0.000000\n",
       "dtype: float64"
      ]
     },
     "execution_count": 141,
     "metadata": {},
     "output_type": "execute_result"
    },
    {
     "data": {
      "image/png": "[encoded data removed]",
      "text/plain": [
       "<Figure size 640x480 with 1 Axes>"
      ]
     },
     "metadata": {},
     "output_type": "display_data"
    }
   ],
   "source": [
    "# 4. Feature Selections\n",
    "# Method 3. Mutual Info Classifier. Estimates mutual information among the features and look at the information gain by each of the variables.\n",
    "from sklearn.feature_selection import mutual_info_classif\n",
    "IG = mutual_info_classif(num_features, target,random_state=42)\n",
    "feature_IG = pd.Series(IG, num_features.columns)\n",
    "feature_IG.plot(kind = 'barh')\n",
    "feature_IG"
   ]
  },
  {
   "cell_type": "markdown",
   "metadata": {},
   "source": [
    "    All have some info gain, although not a lot. Feature has_company_logo and missing company profile seems to have the highest information gain. "
   ]
  },
  {
   "cell_type": "code",
   "execution_count": 142,
   "metadata": {},
   "outputs": [
    {
     "data": {
      "text/plain": [
       "title                          0\n",
       "location                     341\n",
       "department                 11290\n",
       "company_profile             3272\n",
       "description                    1\n",
       "                           ...  \n",
       "missing department             0\n",
       "missing company profile        0\n",
       "missing job description        0\n",
       "missing requirements           0\n",
       "missing benefits               0\n",
       "Length: 23, dtype: int64"
      ]
     },
     "execution_count": 142,
     "metadata": {},
     "output_type": "execute_result"
    }
   ],
   "source": [
    "dataset.isna().sum()"
   ]
  },
  {
   "cell_type": "code",
   "execution_count": 143,
   "metadata": {},
   "outputs": [
    {
     "data": {
      "text/html": [
       "<div>\n",
       "<style scoped>\n",
       "    .dataframe tbody tr th:only-of-type {\n",
       "        vertical-align: middle;\n",
       "    }\n",
       "\n",
       "    .dataframe tbody tr th {\n",
       "        vertical-align: top;\n",
       "    }\n",
       "\n",
       "    .dataframe thead th {\n",
       "        text-align: right;\n",
       "    }\n",
       "</style>\n",
       "<table border=\"1\" class=\"dataframe\">\n",
       "  <thead>\n",
       "    <tr style=\"text-align: right;\">\n",
       "      <th></th>\n",
       "      <th>title</th>\n",
       "      <th>location</th>\n",
       "      <th>department</th>\n",
       "      <th>company_profile</th>\n",
       "      <th>description</th>\n",
       "      <th>requirements</th>\n",
       "      <th>benefits</th>\n",
       "      <th>telecommuting</th>\n",
       "      <th>has_company_logo</th>\n",
       "      <th>has_questions</th>\n",
       "      <th>employment_type</th>\n",
       "      <th>required_experience</th>\n",
       "      <th>required_education</th>\n",
       "      <th>industry</th>\n",
       "      <th>function</th>\n",
       "      <th>fraudulent</th>\n",
       "      <th>in_balanced_dataset</th>\n",
       "      <th>missing location</th>\n",
       "      <th>missing department</th>\n",
       "      <th>missing company profile</th>\n",
       "      <th>missing job description</th>\n",
       "      <th>missing requirements</th>\n",
       "      <th>missing benefits</th>\n",
       "    </tr>\n",
       "  </thead>\n",
       "  <tbody>\n",
       "    <tr>\n",
       "      <th>937</th>\n",
       "      <td>Health &amp; Environmental Professional</td>\n",
       "      <td>US, CA, Bakersfield</td>\n",
       "      <td>Refined Resources</td>\n",
       "      <td>aptitude staffing solution redesigned recruiti...</td>\n",
       "      <td>NaN</td>\n",
       "      <td>responsibility duty responsibility make recomm...</td>\n",
       "      <td>please apply immediate consideration qualified...</td>\n",
       "      <td>0</td>\n",
       "      <td>1</td>\n",
       "      <td>1</td>\n",
       "      <td>1</td>\n",
       "      <td>5</td>\n",
       "      <td>1</td>\n",
       "      <td>Oil &amp; Energy</td>\n",
       "      <td>Other</td>\n",
       "      <td>1</td>\n",
       "      <td>0</td>\n",
       "      <td>0</td>\n",
       "      <td>0</td>\n",
       "      <td>0</td>\n",
       "      <td>1</td>\n",
       "      <td>0</td>\n",
       "      <td>0</td>\n",
       "    </tr>\n",
       "  </tbody>\n",
       "</table>\n",
       "</div>"
      ],
      "text/plain": [
       "                                   title             location  \\\n",
       "937  Health & Environmental Professional  US, CA, Bakersfield   \n",
       "\n",
       "            department                                    company_profile  \\\n",
       "937  Refined Resources  aptitude staffing solution redesigned recruiti...   \n",
       "\n",
       "    description                                       requirements  \\\n",
       "937         NaN  responsibility duty responsibility make recomm...   \n",
       "\n",
       "                                              benefits  telecommuting  \\\n",
       "937  please apply immediate consideration qualified...              0   \n",
       "\n",
       "     has_company_logo  has_questions  employment_type  required_experience  \\\n",
       "937                 1              1                1                    5   \n",
       "\n",
       "     required_education      industry function  fraudulent  \\\n",
       "937                   1  Oil & Energy    Other           1   \n",
       "\n",
       "     in_balanced_dataset  missing location  missing department  \\\n",
       "937                    0                 0                   0   \n",
       "\n",
       "     missing company profile  missing job description  missing requirements  \\\n",
       "937                        0                        1                     0   \n",
       "\n",
       "     missing benefits  \n",
       "937                 0  "
      ]
     },
     "execution_count": 143,
     "metadata": {},
     "output_type": "execute_result"
    }
   ],
   "source": [
    "dataset.loc[dataset['description'].isna()]\n",
    "## only 1 entry and it is a fraudulent data"
   ]
  },
  {
   "cell_type": "code",
   "execution_count": 144,
   "metadata": {},
   "outputs": [],
   "source": [
    "#Fill NaN values with blank in the dataset\n",
    "dataset.fillna('  ', inplace=True)"
   ]
  },
  {
   "cell_type": "code",
   "execution_count": 145,
   "metadata": {},
   "outputs": [
    {
     "data": {
      "text/html": [
       "<div>\n",
       "<style scoped>\n",
       "    .dataframe tbody tr th:only-of-type {\n",
       "        vertical-align: middle;\n",
       "    }\n",
       "\n",
       "    .dataframe tbody tr th {\n",
       "        vertical-align: top;\n",
       "    }\n",
       "\n",
       "    .dataframe thead th {\n",
       "        text-align: right;\n",
       "    }\n",
       "</style>\n",
       "<table border=\"1\" class=\"dataframe\">\n",
       "  <thead>\n",
       "    <tr style=\"text-align: right;\">\n",
       "      <th></th>\n",
       "      <th>title</th>\n",
       "      <th>location</th>\n",
       "      <th>department</th>\n",
       "      <th>company_profile</th>\n",
       "      <th>description</th>\n",
       "      <th>requirements</th>\n",
       "      <th>benefits</th>\n",
       "      <th>telecommuting</th>\n",
       "      <th>has_company_logo</th>\n",
       "      <th>has_questions</th>\n",
       "      <th>employment_type</th>\n",
       "      <th>required_experience</th>\n",
       "      <th>required_education</th>\n",
       "      <th>industry</th>\n",
       "      <th>function</th>\n",
       "      <th>fraudulent</th>\n",
       "      <th>in_balanced_dataset</th>\n",
       "      <th>missing location</th>\n",
       "      <th>missing department</th>\n",
       "      <th>missing company profile</th>\n",
       "      <th>missing job description</th>\n",
       "      <th>missing requirements</th>\n",
       "      <th>missing benefits</th>\n",
       "      <th>full_text</th>\n",
       "    </tr>\n",
       "  </thead>\n",
       "  <tbody>\n",
       "    <tr>\n",
       "      <th>0</th>\n",
       "      <td>Marketing Intern</td>\n",
       "      <td>US, NY, New York</td>\n",
       "      <td>Marketing</td>\n",
       "      <td>food52 created groundbreaking award winning co...</td>\n",
       "      <td>food52 fast growing james beard award winning ...</td>\n",
       "      <td>experience content management system major plu...</td>\n",
       "      <td></td>\n",
       "      <td>0</td>\n",
       "      <td>1</td>\n",
       "      <td>0</td>\n",
       "      <td>2</td>\n",
       "      <td>4</td>\n",
       "      <td>9</td>\n",
       "      <td>Other</td>\n",
       "      <td>Marketing</td>\n",
       "      <td>0</td>\n",
       "      <td>0</td>\n",
       "      <td>0</td>\n",
       "      <td>0</td>\n",
       "      <td>0</td>\n",
       "      <td>0</td>\n",
       "      <td>0</td>\n",
       "      <td>1</td>\n",
       "      <td>Marketing Intern US, NY, New York Marketing fo...</td>\n",
       "    </tr>\n",
       "    <tr>\n",
       "      <th>1</th>\n",
       "      <td>Customer Service - Cloud Video Production</td>\n",
       "      <td>NZ, , Auckland</td>\n",
       "      <td>Success</td>\n",
       "      <td>90 second world cloud video production service...</td>\n",
       "      <td>organised focused vibrant awesome passion cust...</td>\n",
       "      <td>expect key responsibility communicate client 9...</td>\n",
       "      <td>get u part 90 second team gain experience work...</td>\n",
       "      <td>0</td>\n",
       "      <td>1</td>\n",
       "      <td>0</td>\n",
       "      <td>1</td>\n",
       "      <td>6</td>\n",
       "      <td>9</td>\n",
       "      <td>Marketing and Advertising</td>\n",
       "      <td>Customer Service</td>\n",
       "      <td>0</td>\n",
       "      <td>0</td>\n",
       "      <td>0</td>\n",
       "      <td>0</td>\n",
       "      <td>0</td>\n",
       "      <td>0</td>\n",
       "      <td>0</td>\n",
       "      <td>0</td>\n",
       "      <td>Customer Service - Cloud Video Production NZ, ...</td>\n",
       "    </tr>\n",
       "    <tr>\n",
       "      <th>2</th>\n",
       "      <td>Commissioning Machinery Assistant (CMA)</td>\n",
       "      <td>US, IA, Wever</td>\n",
       "      <td></td>\n",
       "      <td>valor service provides workforce solution meet...</td>\n",
       "      <td>client located houston actively seeking experi...</td>\n",
       "      <td>implement pre commissioning commissioning proc...</td>\n",
       "      <td></td>\n",
       "      <td>0</td>\n",
       "      <td>1</td>\n",
       "      <td>0</td>\n",
       "      <td>2</td>\n",
       "      <td>6</td>\n",
       "      <td>9</td>\n",
       "      <td>Other</td>\n",
       "      <td>Other</td>\n",
       "      <td>0</td>\n",
       "      <td>0</td>\n",
       "      <td>0</td>\n",
       "      <td>1</td>\n",
       "      <td>0</td>\n",
       "      <td>0</td>\n",
       "      <td>0</td>\n",
       "      <td>1</td>\n",
       "      <td>Commissioning Machinery Assistant (CMA) US, IA...</td>\n",
       "    </tr>\n",
       "    <tr>\n",
       "      <th>3</th>\n",
       "      <td>Account Executive - Washington DC</td>\n",
       "      <td>US, DC, Washington</td>\n",
       "      <td>Sales</td>\n",
       "      <td>passion improving quality life geography heart...</td>\n",
       "      <td>company esri environmental system research ins...</td>\n",
       "      <td>education bachelor master gi business administ...</td>\n",
       "      <td>culture anything corporate collaborative creat...</td>\n",
       "      <td>0</td>\n",
       "      <td>1</td>\n",
       "      <td>0</td>\n",
       "      <td>1</td>\n",
       "      <td>5</td>\n",
       "      <td>1</td>\n",
       "      <td>Computer Software</td>\n",
       "      <td>Sales</td>\n",
       "      <td>0</td>\n",
       "      <td>0</td>\n",
       "      <td>0</td>\n",
       "      <td>0</td>\n",
       "      <td>0</td>\n",
       "      <td>0</td>\n",
       "      <td>0</td>\n",
       "      <td>0</td>\n",
       "      <td>Account Executive - Washington DC US, DC, Wash...</td>\n",
       "    </tr>\n",
       "    <tr>\n",
       "      <th>4</th>\n",
       "      <td>Bill Review Manager</td>\n",
       "      <td>US, FL, Fort Worth</td>\n",
       "      <td></td>\n",
       "      <td>spotsource solution llc global human capital m...</td>\n",
       "      <td>job title itemization review manager location ...</td>\n",
       "      <td>qualification rn license state texas diploma b...</td>\n",
       "      <td>full benefit offered</td>\n",
       "      <td>0</td>\n",
       "      <td>1</td>\n",
       "      <td>1</td>\n",
       "      <td>1</td>\n",
       "      <td>5</td>\n",
       "      <td>1</td>\n",
       "      <td>Hospital &amp; Health Care</td>\n",
       "      <td>Health Care Provider</td>\n",
       "      <td>0</td>\n",
       "      <td>0</td>\n",
       "      <td>0</td>\n",
       "      <td>1</td>\n",
       "      <td>0</td>\n",
       "      <td>0</td>\n",
       "      <td>0</td>\n",
       "      <td>0</td>\n",
       "      <td>Bill Review Manager US, FL, Fort Worth    spot...</td>\n",
       "    </tr>\n",
       "    <tr>\n",
       "      <th>...</th>\n",
       "      <td>...</td>\n",
       "      <td>...</td>\n",
       "      <td>...</td>\n",
       "      <td>...</td>\n",
       "      <td>...</td>\n",
       "      <td>...</td>\n",
       "      <td>...</td>\n",
       "      <td>...</td>\n",
       "      <td>...</td>\n",
       "      <td>...</td>\n",
       "      <td>...</td>\n",
       "      <td>...</td>\n",
       "      <td>...</td>\n",
       "      <td>...</td>\n",
       "      <td>...</td>\n",
       "      <td>...</td>\n",
       "      <td>...</td>\n",
       "      <td>...</td>\n",
       "      <td>...</td>\n",
       "      <td>...</td>\n",
       "      <td>...</td>\n",
       "      <td>...</td>\n",
       "      <td>...</td>\n",
       "      <td>...</td>\n",
       "    </tr>\n",
       "    <tr>\n",
       "      <th>17875</th>\n",
       "      <td>Account Director - Distribution</td>\n",
       "      <td>CA, ON, Toronto</td>\n",
       "      <td>Sales</td>\n",
       "      <td>vend looking awesome new talent come join u wo...</td>\n",
       "      <td>case first time visited website vend award win...</td>\n",
       "      <td>ace role eat comprehensive statement work brea...</td>\n",
       "      <td>expect u open culture openly share result inpu...</td>\n",
       "      <td>0</td>\n",
       "      <td>1</td>\n",
       "      <td>1</td>\n",
       "      <td>1</td>\n",
       "      <td>5</td>\n",
       "      <td>9</td>\n",
       "      <td>Computer Software</td>\n",
       "      <td>Sales</td>\n",
       "      <td>0</td>\n",
       "      <td>0</td>\n",
       "      <td>0</td>\n",
       "      <td>0</td>\n",
       "      <td>0</td>\n",
       "      <td>0</td>\n",
       "      <td>0</td>\n",
       "      <td>0</td>\n",
       "      <td>Account Director - Distribution  CA, ON, Toron...</td>\n",
       "    </tr>\n",
       "    <tr>\n",
       "      <th>17876</th>\n",
       "      <td>Payroll Accountant</td>\n",
       "      <td>US, PA, Philadelphia</td>\n",
       "      <td>Accounting</td>\n",
       "      <td>weblinc e commerce platform service provider f...</td>\n",
       "      <td>payroll accountant focus primarily payroll fun...</td>\n",
       "      <td>b b accounting desire fun love genuine passion...</td>\n",
       "      <td>health wellness medical plan prescription drug...</td>\n",
       "      <td>0</td>\n",
       "      <td>1</td>\n",
       "      <td>1</td>\n",
       "      <td>1</td>\n",
       "      <td>5</td>\n",
       "      <td>1</td>\n",
       "      <td>Internet</td>\n",
       "      <td>Accounting/Auditing</td>\n",
       "      <td>0</td>\n",
       "      <td>0</td>\n",
       "      <td>0</td>\n",
       "      <td>0</td>\n",
       "      <td>0</td>\n",
       "      <td>0</td>\n",
       "      <td>0</td>\n",
       "      <td>0</td>\n",
       "      <td>Payroll Accountant US, PA, Philadelphia Accoun...</td>\n",
       "    </tr>\n",
       "    <tr>\n",
       "      <th>17877</th>\n",
       "      <td>Project Cost Control Staff Engineer - Cost Con...</td>\n",
       "      <td>US, TX, Houston</td>\n",
       "      <td></td>\n",
       "      <td>provide full time permanent position many medi...</td>\n",
       "      <td>experienced project cost control staff enginee...</td>\n",
       "      <td>least 12 year professional experience ability ...</td>\n",
       "      <td></td>\n",
       "      <td>0</td>\n",
       "      <td>0</td>\n",
       "      <td>0</td>\n",
       "      <td>1</td>\n",
       "      <td>6</td>\n",
       "      <td>9</td>\n",
       "      <td>Other</td>\n",
       "      <td>Other</td>\n",
       "      <td>0</td>\n",
       "      <td>0</td>\n",
       "      <td>0</td>\n",
       "      <td>1</td>\n",
       "      <td>0</td>\n",
       "      <td>0</td>\n",
       "      <td>0</td>\n",
       "      <td>1</td>\n",
       "      <td>Project Cost Control Staff Engineer - Cost Con...</td>\n",
       "    </tr>\n",
       "    <tr>\n",
       "      <th>17878</th>\n",
       "      <td>Graphic Designer</td>\n",
       "      <td>NG, LA, Lagos</td>\n",
       "      <td></td>\n",
       "      <td></td>\n",
       "      <td>nemsia studio looking experienced visual graph...</td>\n",
       "      <td>1 must fluent latest version corel adobe cc es...</td>\n",
       "      <td>competitive salary compensation based experien...</td>\n",
       "      <td>0</td>\n",
       "      <td>0</td>\n",
       "      <td>1</td>\n",
       "      <td>0</td>\n",
       "      <td>6</td>\n",
       "      <td>6</td>\n",
       "      <td>Graphic Design</td>\n",
       "      <td>Design</td>\n",
       "      <td>0</td>\n",
       "      <td>0</td>\n",
       "      <td>0</td>\n",
       "      <td>1</td>\n",
       "      <td>1</td>\n",
       "      <td>0</td>\n",
       "      <td>0</td>\n",
       "      <td>0</td>\n",
       "      <td>Graphic Designer NG, LA, Lagos       nemsia st...</td>\n",
       "    </tr>\n",
       "    <tr>\n",
       "      <th>17879</th>\n",
       "      <td>Web Application Developers</td>\n",
       "      <td>NZ, N, Wellington</td>\n",
       "      <td>Engineering</td>\n",
       "      <td>vend looking awesome new talent come join u wo...</td>\n",
       "      <td>vend award winning web based point sale softwa...</td>\n",
       "      <td>want hear depth understanding oo programming t...</td>\n",
       "      <td></td>\n",
       "      <td>0</td>\n",
       "      <td>1</td>\n",
       "      <td>1</td>\n",
       "      <td>1</td>\n",
       "      <td>5</td>\n",
       "      <td>9</td>\n",
       "      <td>Computer Software</td>\n",
       "      <td>Engineering</td>\n",
       "      <td>0</td>\n",
       "      <td>0</td>\n",
       "      <td>0</td>\n",
       "      <td>0</td>\n",
       "      <td>0</td>\n",
       "      <td>0</td>\n",
       "      <td>0</td>\n",
       "      <td>1</td>\n",
       "      <td>Web Application Developers NZ, N, Wellington E...</td>\n",
       "    </tr>\n",
       "  </tbody>\n",
       "</table>\n",
       "<p>17551 rows × 24 columns</p>\n",
       "</div>"
      ],
      "text/plain": [
       "                                                   title  \\\n",
       "0                                       Marketing Intern   \n",
       "1              Customer Service - Cloud Video Production   \n",
       "2                Commissioning Machinery Assistant (CMA)   \n",
       "3                      Account Executive - Washington DC   \n",
       "4                                    Bill Review Manager   \n",
       "...                                                  ...   \n",
       "17875                   Account Director - Distribution    \n",
       "17876                                 Payroll Accountant   \n",
       "17877  Project Cost Control Staff Engineer - Cost Con...   \n",
       "17878                                   Graphic Designer   \n",
       "17879                         Web Application Developers   \n",
       "\n",
       "                   location   department  \\\n",
       "0          US, NY, New York    Marketing   \n",
       "1            NZ, , Auckland      Success   \n",
       "2             US, IA, Wever                \n",
       "3        US, DC, Washington        Sales   \n",
       "4        US, FL, Fort Worth                \n",
       "...                     ...          ...   \n",
       "17875       CA, ON, Toronto        Sales   \n",
       "17876  US, PA, Philadelphia   Accounting   \n",
       "17877       US, TX, Houston                \n",
       "17878         NG, LA, Lagos                \n",
       "17879     NZ, N, Wellington  Engineering   \n",
       "\n",
       "                                         company_profile  \\\n",
       "0      food52 created groundbreaking award winning co...   \n",
       "1      90 second world cloud video production service...   \n",
       "2      valor service provides workforce solution meet...   \n",
       "3      passion improving quality life geography heart...   \n",
       "4      spotsource solution llc global human capital m...   \n",
       "...                                                  ...   \n",
       "17875  vend looking awesome new talent come join u wo...   \n",
       "17876  weblinc e commerce platform service provider f...   \n",
       "17877  provide full time permanent position many medi...   \n",
       "17878                                                      \n",
       "17879  vend looking awesome new talent come join u wo...   \n",
       "\n",
       "                                             description  \\\n",
       "0      food52 fast growing james beard award winning ...   \n",
       "1      organised focused vibrant awesome passion cust...   \n",
       "2      client located houston actively seeking experi...   \n",
       "3      company esri environmental system research ins...   \n",
       "4      job title itemization review manager location ...   \n",
       "...                                                  ...   \n",
       "17875  case first time visited website vend award win...   \n",
       "17876  payroll accountant focus primarily payroll fun...   \n",
       "17877  experienced project cost control staff enginee...   \n",
       "17878  nemsia studio looking experienced visual graph...   \n",
       "17879  vend award winning web based point sale softwa...   \n",
       "\n",
       "                                            requirements  \\\n",
       "0      experience content management system major plu...   \n",
       "1      expect key responsibility communicate client 9...   \n",
       "2      implement pre commissioning commissioning proc...   \n",
       "3      education bachelor master gi business administ...   \n",
       "4      qualification rn license state texas diploma b...   \n",
       "...                                                  ...   \n",
       "17875  ace role eat comprehensive statement work brea...   \n",
       "17876  b b accounting desire fun love genuine passion...   \n",
       "17877  least 12 year professional experience ability ...   \n",
       "17878  1 must fluent latest version corel adobe cc es...   \n",
       "17879  want hear depth understanding oo programming t...   \n",
       "\n",
       "                                                benefits  telecommuting  \\\n",
       "0                                                                     0   \n",
       "1      get u part 90 second team gain experience work...              0   \n",
       "2                                                                     0   \n",
       "3      culture anything corporate collaborative creat...              0   \n",
       "4                                   full benefit offered              0   \n",
       "...                                                  ...            ...   \n",
       "17875  expect u open culture openly share result inpu...              0   \n",
       "17876  health wellness medical plan prescription drug...              0   \n",
       "17877                                                                 0   \n",
       "17878  competitive salary compensation based experien...              0   \n",
       "17879                                                                 0   \n",
       "\n",
       "       has_company_logo  has_questions  employment_type  required_experience  \\\n",
       "0                     1              0                2                    4   \n",
       "1                     1              0                1                    6   \n",
       "2                     1              0                2                    6   \n",
       "3                     1              0                1                    5   \n",
       "4                     1              1                1                    5   \n",
       "...                 ...            ...              ...                  ...   \n",
       "17875                 1              1                1                    5   \n",
       "17876                 1              1                1                    5   \n",
       "17877                 0              0                1                    6   \n",
       "17878                 0              1                0                    6   \n",
       "17879                 1              1                1                    5   \n",
       "\n",
       "       required_education                   industry              function  \\\n",
       "0                       9                      Other             Marketing   \n",
       "1                       9  Marketing and Advertising      Customer Service   \n",
       "2                       9                      Other                 Other   \n",
       "3                       1          Computer Software                 Sales   \n",
       "4                       1     Hospital & Health Care  Health Care Provider   \n",
       "...                   ...                        ...                   ...   \n",
       "17875                   9          Computer Software                 Sales   \n",
       "17876                   1                   Internet   Accounting/Auditing   \n",
       "17877                   9                      Other                 Other   \n",
       "17878                   6             Graphic Design                Design   \n",
       "17879                   9          Computer Software           Engineering   \n",
       "\n",
       "       fraudulent  in_balanced_dataset  missing location  missing department  \\\n",
       "0               0                    0                 0                   0   \n",
       "1               0                    0                 0                   0   \n",
       "2               0                    0                 0                   1   \n",
       "3               0                    0                 0                   0   \n",
       "4               0                    0                 0                   1   \n",
       "...           ...                  ...               ...                 ...   \n",
       "17875           0                    0                 0                   0   \n",
       "17876           0                    0                 0                   0   \n",
       "17877           0                    0                 0                   1   \n",
       "17878           0                    0                 0                   1   \n",
       "17879           0                    0                 0                   0   \n",
       "\n",
       "       missing company profile  missing job description  missing requirements  \\\n",
       "0                            0                        0                     0   \n",
       "1                            0                        0                     0   \n",
       "2                            0                        0                     0   \n",
       "3                            0                        0                     0   \n",
       "4                            0                        0                     0   \n",
       "...                        ...                      ...                   ...   \n",
       "17875                        0                        0                     0   \n",
       "17876                        0                        0                     0   \n",
       "17877                        0                        0                     0   \n",
       "17878                        1                        0                     0   \n",
       "17879                        0                        0                     0   \n",
       "\n",
       "       missing benefits                                          full_text  \n",
       "0                     1  Marketing Intern US, NY, New York Marketing fo...  \n",
       "1                     0  Customer Service - Cloud Video Production NZ, ...  \n",
       "2                     1  Commissioning Machinery Assistant (CMA) US, IA...  \n",
       "3                     0  Account Executive - Washington DC US, DC, Wash...  \n",
       "4                     0  Bill Review Manager US, FL, Fort Worth    spot...  \n",
       "...                 ...                                                ...  \n",
       "17875                 0  Account Director - Distribution  CA, ON, Toron...  \n",
       "17876                 0  Payroll Accountant US, PA, Philadelphia Accoun...  \n",
       "17877                 1  Project Cost Control Staff Engineer - Cost Con...  \n",
       "17878                 0  Graphic Designer NG, LA, Lagos       nemsia st...  \n",
       "17879                 1  Web Application Developers NZ, N, Wellington E...  \n",
       "\n",
       "[17551 rows x 24 columns]"
      ]
     },
     "execution_count": 145,
     "metadata": {},
     "output_type": "execute_result"
    }
   ],
   "source": [
    "\n",
    "#combine all text into 1 column - full_text\n",
    "dataset['full_text'] = dataset['title'] + \" \" + dataset['location'] + \" \" + dataset['department']  + \" \" + dataset['company_profile']  + \" \" + dataset['description']  + \" \" + dataset['requirements']  + \" \"  + dataset['benefits'] \n",
    "dataset"
   ]
  },
  {
   "cell_type": "code",
   "execution_count": 146,
   "metadata": {},
   "outputs": [
    {
     "name": "stdout",
     "output_type": "stream",
     "text": [
      "Min length of 'full text': 38\n",
      "Max length of 'full text': 11727\n"
     ]
    }
   ],
   "source": [
    "\n",
    "\n",
    "print(f\"Min length of 'full text': {dataset['full_text'].map(len).min()}\")\n",
    "print(f\"Max length of 'full text': {dataset['full_text'].map(len).max()}\")"
   ]
  },
  {
   "cell_type": "code",
   "execution_count": 147,
   "metadata": {},
   "outputs": [],
   "source": [
    "def update_text(new_df): \n",
    "  new_df['full_text'] = new_df['full_text'].str.replace(pat='US', repl='USA', case=True)\n",
    "  new_df['location'] = new_df['location'].str.replace(pat='US', repl='USA', case=True)\n",
    "  return new_df"
   ]
  },
  {
   "cell_type": "code",
   "execution_count": 148,
   "metadata": {},
   "outputs": [],
   "source": [
    "# update US with USA so it does not get mixed up with the word 'us'\n",
    "dataset = update_text(dataset)"
   ]
  },
  {
   "cell_type": "code",
   "execution_count": 149,
   "metadata": {},
   "outputs": [],
   "source": [
    "from nltk.tokenize import sent_tokenize, word_tokenize\n",
    "from nltk.corpus import stopwords\n",
    "from nltk.stem.porter import PorterStemmer \n",
    "from nltk.stem.snowball import SnowballStemmer\n",
    "from nltk.stem.wordnet import WordNetLemmatizer\n",
    "import re\n",
    "from bs4 import BeautifulSoup"
   ]
  },
  {
   "cell_type": "code",
   "execution_count": 150,
   "metadata": {},
   "outputs": [],
   "source": [
    "def preprocess(text):\n",
    "    text = re.sub(pattern='[^a-zA-Z0-9]',repl=' ',string=text)\n",
    "    text = text.lower()\n",
    "    tokens = word_tokenize(text)\n",
    "    stop = set(stopwords.words('english'))\n",
    "    tokens = [str(word) for word in tokens if word not in stop]\n",
    "    lemmatizer = WordNetLemmatizer()\n",
    "    tokens = [lemmatizer.lemmatize(word) for word in tokens]\n",
    "    ps = PorterStemmer()\n",
    "    tokens = [ps.stem(word) for word in tokens]\n",
    "    sentence = ' '.join(tokens)\n",
    "    return sentence"
   ]
  },
  {
   "cell_type": "code",
   "execution_count": 151,
   "metadata": {},
   "outputs": [],
   "source": [
    "dataset['company_profile'] = dataset['company_profile'].apply(preprocess)\n",
    "dataset['description'] = dataset['description'].apply(preprocess)\n",
    "dataset['requirements'] = dataset['requirements'].apply(preprocess)\n",
    "dataset['benefits'] = dataset['benefits'].apply(preprocess)"
   ]
  },
  {
   "cell_type": "code",
   "execution_count": 152,
   "metadata": {},
   "outputs": [],
   "source": [
    "dataset['title'] = dataset['title'].apply(preprocess)\n",
    "dataset['location'] = dataset['location'].apply(preprocess)\n",
    "dataset['department'] = dataset['department'].apply(preprocess)"
   ]
  },
  {
   "cell_type": "code",
   "execution_count": 153,
   "metadata": {},
   "outputs": [],
   "source": [
    "dataset['full_text'] = dataset['title'] + \" \" + dataset['location'] + \" \" + dataset['department']  + \" \" + dataset['company_profile']  + \" \" + dataset['description']  + \" \" + dataset['requirements']  + \" \"  + dataset['benefits'] \n",
    "dataset['full_text'] = dataset['full_text'].apply(preprocess)"
   ]
  },
  {
   "cell_type": "code",
   "execution_count": 154,
   "metadata": {},
   "outputs": [
    {
     "data": {
      "text/html": [
       "<div>\n",
       "<style scoped>\n",
       "    .dataframe tbody tr th:only-of-type {\n",
       "        vertical-align: middle;\n",
       "    }\n",
       "\n",
       "    .dataframe tbody tr th {\n",
       "        vertical-align: top;\n",
       "    }\n",
       "\n",
       "    .dataframe thead th {\n",
       "        text-align: right;\n",
       "    }\n",
       "</style>\n",
       "<table border=\"1\" class=\"dataframe\">\n",
       "  <thead>\n",
       "    <tr style=\"text-align: right;\">\n",
       "      <th></th>\n",
       "      <th>title</th>\n",
       "      <th>location</th>\n",
       "      <th>department</th>\n",
       "      <th>company_profile</th>\n",
       "      <th>description</th>\n",
       "      <th>requirements</th>\n",
       "      <th>benefits</th>\n",
       "      <th>telecommuting</th>\n",
       "      <th>has_company_logo</th>\n",
       "      <th>has_questions</th>\n",
       "      <th>employment_type</th>\n",
       "      <th>required_experience</th>\n",
       "      <th>required_education</th>\n",
       "      <th>industry</th>\n",
       "      <th>function</th>\n",
       "      <th>fraudulent</th>\n",
       "      <th>in_balanced_dataset</th>\n",
       "      <th>missing location</th>\n",
       "      <th>missing department</th>\n",
       "      <th>missing company profile</th>\n",
       "      <th>missing job description</th>\n",
       "      <th>missing requirements</th>\n",
       "      <th>missing benefits</th>\n",
       "      <th>full_text</th>\n",
       "    </tr>\n",
       "  </thead>\n",
       "  <tbody>\n",
       "    <tr>\n",
       "      <th>0</th>\n",
       "      <td>market intern</td>\n",
       "      <td>usa ny new york</td>\n",
       "      <td>market</td>\n",
       "      <td>food52 creat groundbreak award win cook site s...</td>\n",
       "      <td>food52 fast grow jame beard award win onlin fo...</td>\n",
       "      <td>experi content manag system major plu blog cou...</td>\n",
       "      <td></td>\n",
       "      <td>0</td>\n",
       "      <td>1</td>\n",
       "      <td>0</td>\n",
       "      <td>2</td>\n",
       "      <td>4</td>\n",
       "      <td>9</td>\n",
       "      <td>Other</td>\n",
       "      <td>Marketing</td>\n",
       "      <td>0</td>\n",
       "      <td>0</td>\n",
       "      <td>0</td>\n",
       "      <td>0</td>\n",
       "      <td>0</td>\n",
       "      <td>0</td>\n",
       "      <td>0</td>\n",
       "      <td>1</td>\n",
       "      <td>market intern usa ny new york market food52 cr...</td>\n",
       "    </tr>\n",
       "    <tr>\n",
       "      <th>1</th>\n",
       "      <td>custom servic cloud video product</td>\n",
       "      <td>nz auckland</td>\n",
       "      <td>success</td>\n",
       "      <td>90 second world cloud video product servic 90 ...</td>\n",
       "      <td>organis focus vibrant awesom passion custom se...</td>\n",
       "      <td>expect key respons commun client 90 second tea...</td>\n",
       "      <td>get u part 90 second team gain experi work pro...</td>\n",
       "      <td>0</td>\n",
       "      <td>1</td>\n",
       "      <td>0</td>\n",
       "      <td>1</td>\n",
       "      <td>6</td>\n",
       "      <td>9</td>\n",
       "      <td>Marketing and Advertising</td>\n",
       "      <td>Customer Service</td>\n",
       "      <td>0</td>\n",
       "      <td>0</td>\n",
       "      <td>0</td>\n",
       "      <td>0</td>\n",
       "      <td>0</td>\n",
       "      <td>0</td>\n",
       "      <td>0</td>\n",
       "      <td>0</td>\n",
       "      <td>custom servic cloud video product nz auckland ...</td>\n",
       "    </tr>\n",
       "    <tr>\n",
       "      <th>2</th>\n",
       "      <td>commiss machineri assist cma</td>\n",
       "      <td>usa ia wever</td>\n",
       "      <td></td>\n",
       "      <td>valor servic provid workforc solut meet need c...</td>\n",
       "      <td>client locat houston activ seek experienc comm...</td>\n",
       "      <td>implement pre commiss commiss procedur rotari ...</td>\n",
       "      <td></td>\n",
       "      <td>0</td>\n",
       "      <td>1</td>\n",
       "      <td>0</td>\n",
       "      <td>2</td>\n",
       "      <td>6</td>\n",
       "      <td>9</td>\n",
       "      <td>Other</td>\n",
       "      <td>Other</td>\n",
       "      <td>0</td>\n",
       "      <td>0</td>\n",
       "      <td>0</td>\n",
       "      <td>1</td>\n",
       "      <td>0</td>\n",
       "      <td>0</td>\n",
       "      <td>0</td>\n",
       "      <td>1</td>\n",
       "      <td>commiss machineri assist cma usa ia wever valo...</td>\n",
       "    </tr>\n",
       "    <tr>\n",
       "      <th>3</th>\n",
       "      <td>account execut washington dc</td>\n",
       "      <td>usa dc washington</td>\n",
       "      <td>sale</td>\n",
       "      <td>passion improv qualiti life geographi heart ev...</td>\n",
       "      <td>compani esri environment system research insti...</td>\n",
       "      <td>educ bachelor master gi busi administr relat f...</td>\n",
       "      <td>cultur anyth corpor collabor creativ environ p...</td>\n",
       "      <td>0</td>\n",
       "      <td>1</td>\n",
       "      <td>0</td>\n",
       "      <td>1</td>\n",
       "      <td>5</td>\n",
       "      <td>1</td>\n",
       "      <td>Computer Software</td>\n",
       "      <td>Sales</td>\n",
       "      <td>0</td>\n",
       "      <td>0</td>\n",
       "      <td>0</td>\n",
       "      <td>0</td>\n",
       "      <td>0</td>\n",
       "      <td>0</td>\n",
       "      <td>0</td>\n",
       "      <td>0</td>\n",
       "      <td>account execut washington dc usa dc washington...</td>\n",
       "    </tr>\n",
       "    <tr>\n",
       "      <th>4</th>\n",
       "      <td>bill review manag</td>\n",
       "      <td>usa fl fort worth</td>\n",
       "      <td></td>\n",
       "      <td>spotsourc solut llc global human capit manag c...</td>\n",
       "      <td>job titl item review manag locat fort worth tx...</td>\n",
       "      <td>qualif rn licens state texa diploma bachelor s...</td>\n",
       "      <td>full benefit offer</td>\n",
       "      <td>0</td>\n",
       "      <td>1</td>\n",
       "      <td>1</td>\n",
       "      <td>1</td>\n",
       "      <td>5</td>\n",
       "      <td>1</td>\n",
       "      <td>Hospital &amp; Health Care</td>\n",
       "      <td>Health Care Provider</td>\n",
       "      <td>0</td>\n",
       "      <td>0</td>\n",
       "      <td>0</td>\n",
       "      <td>1</td>\n",
       "      <td>0</td>\n",
       "      <td>0</td>\n",
       "      <td>0</td>\n",
       "      <td>0</td>\n",
       "      <td>bill review manag usa fl fort worth spotsourc ...</td>\n",
       "    </tr>\n",
       "    <tr>\n",
       "      <th>...</th>\n",
       "      <td>...</td>\n",
       "      <td>...</td>\n",
       "      <td>...</td>\n",
       "      <td>...</td>\n",
       "      <td>...</td>\n",
       "      <td>...</td>\n",
       "      <td>...</td>\n",
       "      <td>...</td>\n",
       "      <td>...</td>\n",
       "      <td>...</td>\n",
       "      <td>...</td>\n",
       "      <td>...</td>\n",
       "      <td>...</td>\n",
       "      <td>...</td>\n",
       "      <td>...</td>\n",
       "      <td>...</td>\n",
       "      <td>...</td>\n",
       "      <td>...</td>\n",
       "      <td>...</td>\n",
       "      <td>...</td>\n",
       "      <td>...</td>\n",
       "      <td>...</td>\n",
       "      <td>...</td>\n",
       "      <td>...</td>\n",
       "    </tr>\n",
       "    <tr>\n",
       "      <th>17875</th>\n",
       "      <td>account director distribut</td>\n",
       "      <td>ca toronto</td>\n",
       "      <td>sale</td>\n",
       "      <td>vend look awesom new talent come join u work a...</td>\n",
       "      <td>case first time visit websit vend award win we...</td>\n",
       "      <td>ace role eat comprehens statement work breakfa...</td>\n",
       "      <td>expect u open cultur openli share result input...</td>\n",
       "      <td>0</td>\n",
       "      <td>1</td>\n",
       "      <td>1</td>\n",
       "      <td>1</td>\n",
       "      <td>5</td>\n",
       "      <td>9</td>\n",
       "      <td>Computer Software</td>\n",
       "      <td>Sales</td>\n",
       "      <td>0</td>\n",
       "      <td>0</td>\n",
       "      <td>0</td>\n",
       "      <td>0</td>\n",
       "      <td>0</td>\n",
       "      <td>0</td>\n",
       "      <td>0</td>\n",
       "      <td>0</td>\n",
       "      <td>account director distribut ca toronto sale ven...</td>\n",
       "    </tr>\n",
       "    <tr>\n",
       "      <th>17876</th>\n",
       "      <td>payrol account</td>\n",
       "      <td>usa pa philadelphia</td>\n",
       "      <td>account</td>\n",
       "      <td>weblinc e commerc platform servic provid faste...</td>\n",
       "      <td>payrol account focu primarili payrol function ...</td>\n",
       "      <td>b b account desir fun love genuin passion acco...</td>\n",
       "      <td>health well medic plan prescript drug plan den...</td>\n",
       "      <td>0</td>\n",
       "      <td>1</td>\n",
       "      <td>1</td>\n",
       "      <td>1</td>\n",
       "      <td>5</td>\n",
       "      <td>1</td>\n",
       "      <td>Internet</td>\n",
       "      <td>Accounting/Auditing</td>\n",
       "      <td>0</td>\n",
       "      <td>0</td>\n",
       "      <td>0</td>\n",
       "      <td>0</td>\n",
       "      <td>0</td>\n",
       "      <td>0</td>\n",
       "      <td>0</td>\n",
       "      <td>0</td>\n",
       "      <td>payrol account usa pa philadelphia account web...</td>\n",
       "    </tr>\n",
       "    <tr>\n",
       "      <th>17877</th>\n",
       "      <td>project cost control staff engin cost control ...</td>\n",
       "      <td>usa tx houston</td>\n",
       "      <td></td>\n",
       "      <td>provid full time perman posit mani medium larg...</td>\n",
       "      <td>experienc project cost control staff engin req...</td>\n",
       "      <td>least 12 year profession experi abil work dive...</td>\n",
       "      <td></td>\n",
       "      <td>0</td>\n",
       "      <td>0</td>\n",
       "      <td>0</td>\n",
       "      <td>1</td>\n",
       "      <td>6</td>\n",
       "      <td>9</td>\n",
       "      <td>Other</td>\n",
       "      <td>Other</td>\n",
       "      <td>0</td>\n",
       "      <td>0</td>\n",
       "      <td>0</td>\n",
       "      <td>1</td>\n",
       "      <td>0</td>\n",
       "      <td>0</td>\n",
       "      <td>0</td>\n",
       "      <td>1</td>\n",
       "      <td>project cost control staff engin cost control ...</td>\n",
       "    </tr>\n",
       "    <tr>\n",
       "      <th>17878</th>\n",
       "      <td>graphic design</td>\n",
       "      <td>ng la lago</td>\n",
       "      <td></td>\n",
       "      <td></td>\n",
       "      <td>nemsia studio look experienc visual graphic de...</td>\n",
       "      <td>1 must fluent latest version corel adob cc esp...</td>\n",
       "      <td>competit salari compens base experi casual att...</td>\n",
       "      <td>0</td>\n",
       "      <td>0</td>\n",
       "      <td>1</td>\n",
       "      <td>0</td>\n",
       "      <td>6</td>\n",
       "      <td>6</td>\n",
       "      <td>Graphic Design</td>\n",
       "      <td>Design</td>\n",
       "      <td>0</td>\n",
       "      <td>0</td>\n",
       "      <td>0</td>\n",
       "      <td>1</td>\n",
       "      <td>1</td>\n",
       "      <td>0</td>\n",
       "      <td>0</td>\n",
       "      <td>0</td>\n",
       "      <td>graphic design ng la lago nemsia studio look e...</td>\n",
       "    </tr>\n",
       "    <tr>\n",
       "      <th>17879</th>\n",
       "      <td>web applic develop</td>\n",
       "      <td>nz n wellington</td>\n",
       "      <td>engin</td>\n",
       "      <td>vend look awesom new talent come join u work a...</td>\n",
       "      <td>vend award win web base point sale softwar ret...</td>\n",
       "      <td>want hear depth understand oo program total ge...</td>\n",
       "      <td></td>\n",
       "      <td>0</td>\n",
       "      <td>1</td>\n",
       "      <td>1</td>\n",
       "      <td>1</td>\n",
       "      <td>5</td>\n",
       "      <td>9</td>\n",
       "      <td>Computer Software</td>\n",
       "      <td>Engineering</td>\n",
       "      <td>0</td>\n",
       "      <td>0</td>\n",
       "      <td>0</td>\n",
       "      <td>0</td>\n",
       "      <td>0</td>\n",
       "      <td>0</td>\n",
       "      <td>0</td>\n",
       "      <td>1</td>\n",
       "      <td>web applic develop nz n wellington engin vend ...</td>\n",
       "    </tr>\n",
       "  </tbody>\n",
       "</table>\n",
       "<p>17551 rows × 24 columns</p>\n",
       "</div>"
      ],
      "text/plain": [
       "                                                   title             location  \\\n",
       "0                                          market intern      usa ny new york   \n",
       "1                      custom servic cloud video product          nz auckland   \n",
       "2                           commiss machineri assist cma         usa ia wever   \n",
       "3                           account execut washington dc    usa dc washington   \n",
       "4                                      bill review manag    usa fl fort worth   \n",
       "...                                                  ...                  ...   \n",
       "17875                         account director distribut           ca toronto   \n",
       "17876                                     payrol account  usa pa philadelphia   \n",
       "17877  project cost control staff engin cost control ...       usa tx houston   \n",
       "17878                                     graphic design           ng la lago   \n",
       "17879                                 web applic develop      nz n wellington   \n",
       "\n",
       "      department                                    company_profile  \\\n",
       "0         market  food52 creat groundbreak award win cook site s...   \n",
       "1        success  90 second world cloud video product servic 90 ...   \n",
       "2                 valor servic provid workforc solut meet need c...   \n",
       "3           sale  passion improv qualiti life geographi heart ev...   \n",
       "4                 spotsourc solut llc global human capit manag c...   \n",
       "...          ...                                                ...   \n",
       "17875       sale  vend look awesom new talent come join u work a...   \n",
       "17876    account  weblinc e commerc platform servic provid faste...   \n",
       "17877             provid full time perman posit mani medium larg...   \n",
       "17878                                                                 \n",
       "17879      engin  vend look awesom new talent come join u work a...   \n",
       "\n",
       "                                             description  \\\n",
       "0      food52 fast grow jame beard award win onlin fo...   \n",
       "1      organis focus vibrant awesom passion custom se...   \n",
       "2      client locat houston activ seek experienc comm...   \n",
       "3      compani esri environment system research insti...   \n",
       "4      job titl item review manag locat fort worth tx...   \n",
       "...                                                  ...   \n",
       "17875  case first time visit websit vend award win we...   \n",
       "17876  payrol account focu primarili payrol function ...   \n",
       "17877  experienc project cost control staff engin req...   \n",
       "17878  nemsia studio look experienc visual graphic de...   \n",
       "17879  vend award win web base point sale softwar ret...   \n",
       "\n",
       "                                            requirements  \\\n",
       "0      experi content manag system major plu blog cou...   \n",
       "1      expect key respons commun client 90 second tea...   \n",
       "2      implement pre commiss commiss procedur rotari ...   \n",
       "3      educ bachelor master gi busi administr relat f...   \n",
       "4      qualif rn licens state texa diploma bachelor s...   \n",
       "...                                                  ...   \n",
       "17875  ace role eat comprehens statement work breakfa...   \n",
       "17876  b b account desir fun love genuin passion acco...   \n",
       "17877  least 12 year profession experi abil work dive...   \n",
       "17878  1 must fluent latest version corel adob cc esp...   \n",
       "17879  want hear depth understand oo program total ge...   \n",
       "\n",
       "                                                benefits  telecommuting  \\\n",
       "0                                                                     0   \n",
       "1      get u part 90 second team gain experi work pro...              0   \n",
       "2                                                                     0   \n",
       "3      cultur anyth corpor collabor creativ environ p...              0   \n",
       "4                                     full benefit offer              0   \n",
       "...                                                  ...            ...   \n",
       "17875  expect u open cultur openli share result input...              0   \n",
       "17876  health well medic plan prescript drug plan den...              0   \n",
       "17877                                                                 0   \n",
       "17878  competit salari compens base experi casual att...              0   \n",
       "17879                                                                 0   \n",
       "\n",
       "       has_company_logo  has_questions  employment_type  required_experience  \\\n",
       "0                     1              0                2                    4   \n",
       "1                     1              0                1                    6   \n",
       "2                     1              0                2                    6   \n",
       "3                     1              0                1                    5   \n",
       "4                     1              1                1                    5   \n",
       "...                 ...            ...              ...                  ...   \n",
       "17875                 1              1                1                    5   \n",
       "17876                 1              1                1                    5   \n",
       "17877                 0              0                1                    6   \n",
       "17878                 0              1                0                    6   \n",
       "17879                 1              1                1                    5   \n",
       "\n",
       "       required_education                   industry              function  \\\n",
       "0                       9                      Other             Marketing   \n",
       "1                       9  Marketing and Advertising      Customer Service   \n",
       "2                       9                      Other                 Other   \n",
       "3                       1          Computer Software                 Sales   \n",
       "4                       1     Hospital & Health Care  Health Care Provider   \n",
       "...                   ...                        ...                   ...   \n",
       "17875                   9          Computer Software                 Sales   \n",
       "17876                   1                   Internet   Accounting/Auditing   \n",
       "17877                   9                      Other                 Other   \n",
       "17878                   6             Graphic Design                Design   \n",
       "17879                   9          Computer Software           Engineering   \n",
       "\n",
       "       fraudulent  in_balanced_dataset  missing location  missing department  \\\n",
       "0               0                    0                 0                   0   \n",
       "1               0                    0                 0                   0   \n",
       "2               0                    0                 0                   1   \n",
       "3               0                    0                 0                   0   \n",
       "4               0                    0                 0                   1   \n",
       "...           ...                  ...               ...                 ...   \n",
       "17875           0                    0                 0                   0   \n",
       "17876           0                    0                 0                   0   \n",
       "17877           0                    0                 0                   1   \n",
       "17878           0                    0                 0                   1   \n",
       "17879           0                    0                 0                   0   \n",
       "\n",
       "       missing company profile  missing job description  missing requirements  \\\n",
       "0                            0                        0                     0   \n",
       "1                            0                        0                     0   \n",
       "2                            0                        0                     0   \n",
       "3                            0                        0                     0   \n",
       "4                            0                        0                     0   \n",
       "...                        ...                      ...                   ...   \n",
       "17875                        0                        0                     0   \n",
       "17876                        0                        0                     0   \n",
       "17877                        0                        0                     0   \n",
       "17878                        1                        0                     0   \n",
       "17879                        0                        0                     0   \n",
       "\n",
       "       missing benefits                                          full_text  \n",
       "0                     1  market intern usa ny new york market food52 cr...  \n",
       "1                     0  custom servic cloud video product nz auckland ...  \n",
       "2                     1  commiss machineri assist cma usa ia wever valo...  \n",
       "3                     0  account execut washington dc usa dc washington...  \n",
       "4                     0  bill review manag usa fl fort worth spotsourc ...  \n",
       "...                 ...                                                ...  \n",
       "17875                 0  account director distribut ca toronto sale ven...  \n",
       "17876                 0  payrol account usa pa philadelphia account web...  \n",
       "17877                 1  project cost control staff engin cost control ...  \n",
       "17878                 0  graphic design ng la lago nemsia studio look e...  \n",
       "17879                 1  web applic develop nz n wellington engin vend ...  \n",
       "\n",
       "[17551 rows x 24 columns]"
      ]
     },
     "execution_count": 154,
     "metadata": {},
     "output_type": "execute_result"
    }
   ],
   "source": [
    "dataset"
   ]
  },
  {
   "cell_type": "markdown",
   "metadata": {},
   "source": [
    "## next, let's test some models"
   ]
  },
  {
   "cell_type": "code",
   "execution_count": 155,
   "metadata": {},
   "outputs": [],
   "source": [
    "x = dataset.drop(['fraudulent', 'title', 'location', 'department', 'company_profile', 'description', 'requirements', 'benefits', 'full_text', 'industry', 'function', 'in_balanced_dataset'] , axis = 1)\n",
    "y = dataset['fraudulent']\n",
    "x_train, x_test, y_train, y_test = train_test_split(x, y, test_size = 0.3 , random_state = 42)\n"
   ]
  },
  {
   "cell_type": "code",
   "execution_count": 156,
   "metadata": {},
   "outputs": [],
   "source": [
    "from sklearn.ensemble import RandomForestClassifier ,ExtraTreesClassifier\n",
    "from sklearn.tree import DecisionTreeClassifier ,ExtraTreeClassifier\n",
    "from sklearn.neighbors import KNeighborsClassifier\n",
    "from sklearn.linear_model import LogisticRegression\n",
    "from sklearn.model_selection import train_test_split\n",
    "from sklearn.metrics import accuracy_score ,recall_score,precision_score,f1_score ,classification_report, r2_score ,confusion_matrix"
   ]
  },
  {
   "cell_type": "code",
   "execution_count": 157,
   "metadata": {},
   "outputs": [
    {
     "data": {
      "text/html": [
       "<div>\n",
       "<style scoped>\n",
       "    .dataframe tbody tr th:only-of-type {\n",
       "        vertical-align: middle;\n",
       "    }\n",
       "\n",
       "    .dataframe tbody tr th {\n",
       "        vertical-align: top;\n",
       "    }\n",
       "\n",
       "    .dataframe thead th {\n",
       "        text-align: right;\n",
       "    }\n",
       "</style>\n",
       "<table border=\"1\" class=\"dataframe\">\n",
       "  <thead>\n",
       "    <tr style=\"text-align: right;\">\n",
       "      <th></th>\n",
       "      <th>Accuracy</th>\n",
       "      <th>F1_score</th>\n",
       "      <th>Precision</th>\n",
       "      <th>Recall</th>\n",
       "    </tr>\n",
       "  </thead>\n",
       "  <tbody>\n",
       "    <tr>\n",
       "      <th>LogisticRegression() _ Train Details</th>\n",
       "      <td>95</td>\n",
       "      <td>0</td>\n",
       "      <td>0</td>\n",
       "      <td>0</td>\n",
       "    </tr>\n",
       "    <tr>\n",
       "      <th>LogisticRegression() _ Test Details</th>\n",
       "      <td>95</td>\n",
       "      <td>0</td>\n",
       "      <td>0</td>\n",
       "      <td>0</td>\n",
       "    </tr>\n",
       "    <tr>\n",
       "      <th>KNeighborsClassifier() _ Train Details</th>\n",
       "      <td>94</td>\n",
       "      <td>44</td>\n",
       "      <td>41</td>\n",
       "      <td>49</td>\n",
       "    </tr>\n",
       "    <tr>\n",
       "      <th>KNeighborsClassifier() _ Test Details</th>\n",
       "      <td>94</td>\n",
       "      <td>42</td>\n",
       "      <td>39</td>\n",
       "      <td>47</td>\n",
       "    </tr>\n",
       "    <tr>\n",
       "      <th>DecisionTreeClassifier() _ Train Details</th>\n",
       "      <td>96</td>\n",
       "      <td>56</td>\n",
       "      <td>71</td>\n",
       "      <td>46</td>\n",
       "    </tr>\n",
       "    <tr>\n",
       "      <th>DecisionTreeClassifier() _ Test Details</th>\n",
       "      <td>95</td>\n",
       "      <td>40</td>\n",
       "      <td>52</td>\n",
       "      <td>33</td>\n",
       "    </tr>\n",
       "    <tr>\n",
       "      <th>ExtraTreeClassifier() _ Train Details</th>\n",
       "      <td>96</td>\n",
       "      <td>56</td>\n",
       "      <td>71</td>\n",
       "      <td>46</td>\n",
       "    </tr>\n",
       "    <tr>\n",
       "      <th>ExtraTreeClassifier() _ Test Details</th>\n",
       "      <td>95</td>\n",
       "      <td>41</td>\n",
       "      <td>54</td>\n",
       "      <td>33</td>\n",
       "    </tr>\n",
       "    <tr>\n",
       "      <th>RandomForestClassifier() _ Train Details</th>\n",
       "      <td>96</td>\n",
       "      <td>56</td>\n",
       "      <td>71</td>\n",
       "      <td>46</td>\n",
       "    </tr>\n",
       "    <tr>\n",
       "      <th>RandomForestClassifier() _ Test Details</th>\n",
       "      <td>95</td>\n",
       "      <td>44</td>\n",
       "      <td>57</td>\n",
       "      <td>35</td>\n",
       "    </tr>\n",
       "    <tr>\n",
       "      <th>ExtraTreesClassifier() _ Train Details</th>\n",
       "      <td>96</td>\n",
       "      <td>56</td>\n",
       "      <td>71</td>\n",
       "      <td>46</td>\n",
       "    </tr>\n",
       "    <tr>\n",
       "      <th>ExtraTreesClassifier() _ Test Details</th>\n",
       "      <td>95</td>\n",
       "      <td>42</td>\n",
       "      <td>57</td>\n",
       "      <td>33</td>\n",
       "    </tr>\n",
       "  </tbody>\n",
       "</table>\n",
       "</div>"
      ],
      "text/plain": [
       "                                         Accuracy F1_score Precision Recall\n",
       "LogisticRegression() _ Train Details           95        0         0      0\n",
       "LogisticRegression() _ Test Details            95        0         0      0\n",
       "KNeighborsClassifier() _ Train Details         94       44        41     49\n",
       "KNeighborsClassifier() _ Test Details          94       42        39     47\n",
       "DecisionTreeClassifier() _ Train Details       96       56        71     46\n",
       "DecisionTreeClassifier() _ Test Details        95       40        52     33\n",
       "ExtraTreeClassifier() _ Train Details          96       56        71     46\n",
       "ExtraTreeClassifier() _ Test Details           95       41        54     33\n",
       "RandomForestClassifier() _ Train Details       96       56        71     46\n",
       "RandomForestClassifier() _ Test Details        95       44        57     35\n",
       "ExtraTreesClassifier() _ Train Details         96       56        71     46\n",
       "ExtraTreesClassifier() _ Test Details          95       42        57     33"
      ]
     },
     "execution_count": 157,
     "metadata": {},
     "output_type": "execute_result"
    }
   ],
   "source": [
    "list_of_models = [LogisticRegression() , KNeighborsClassifier() , \n",
    "                  DecisionTreeClassifier() ,ExtraTreeClassifier(), RandomForestClassifier(),ExtraTreesClassifier()]\n",
    "classification_report = pd.DataFrame(columns=['Accuracy','F1_score','Precision','Recall'])\n",
    "\n",
    "for model in list_of_models :\n",
    "    model = model.fit(x_train , y_train)\n",
    "    for i in range(2) :\n",
    "        if i == 0 :\n",
    "            to_pred = x_train\n",
    "            pred = y_train\n",
    "            title = 'Train'\n",
    "            \n",
    "        else :\n",
    "            to_pred = x_test\n",
    "            pred = y_test\n",
    "            title = 'Test'\n",
    "        y_pred = model.predict(to_pred)\n",
    "        acc = round(accuracy_score(pred , y_pred)*100)\n",
    "        f1 = round(f1_score(pred , y_pred)*100)\n",
    "        prec = round(precision_score(pred , y_pred)*100)\n",
    "        recall = round(recall_score(pred , y_pred)*100)\n",
    "        d = pd.DataFrame(data=np.array([acc,f1,prec,recall]).reshape(1,4) \n",
    "                     , columns=['Accuracy' , 'F1_score' , 'Precision' , 'Recall'])  \n",
    "        classification_report = pd.concat([classification_report , d])\n",
    "        classification_report.rename( index= { 0 :'{} _ {} Details'.format(model , title) } ,inplace=True )\n",
    "pd.options.display.max_rows = 15\n",
    "classification_report"
   ]
  },
  {
   "cell_type": "markdown",
   "metadata": {},
   "source": [
    "## generally, high accuracy, poor recall \n",
    "however, this might appear as the best when we through in all the features when comparing to others (remove some features)\n",
    "## two possible ways: do text NLP alone or text embedding and incorporate into the model"
   ]
  },
  {
   "cell_type": "code",
   "execution_count": 158,
   "metadata": {},
   "outputs": [],
   "source": [
    "x = dataset.loc[:, dataset.columns.isin(['has_company_logo', 'has questions','employment_type','required_experience','required_education','missing location' ,'missing benefits' ,'missing department' ,'missing company profile', 'telecommuting' ])]\n",
    "y = dataset['fraudulent']\n",
    "x_train, x_test, y_train, y_test = train_test_split(x, y, test_size = 0.3 , random_state = 42)\n"
   ]
  },
  {
   "cell_type": "code",
   "execution_count": 159,
   "metadata": {},
   "outputs": [
    {
     "data": {
      "text/html": [
       "<div>\n",
       "<style scoped>\n",
       "    .dataframe tbody tr th:only-of-type {\n",
       "        vertical-align: middle;\n",
       "    }\n",
       "\n",
       "    .dataframe tbody tr th {\n",
       "        vertical-align: top;\n",
       "    }\n",
       "\n",
       "    .dataframe thead th {\n",
       "        text-align: right;\n",
       "    }\n",
       "</style>\n",
       "<table border=\"1\" class=\"dataframe\">\n",
       "  <thead>\n",
       "    <tr style=\"text-align: right;\">\n",
       "      <th></th>\n",
       "      <th>Accuracy</th>\n",
       "      <th>F1_score</th>\n",
       "      <th>Precision</th>\n",
       "      <th>Recall</th>\n",
       "    </tr>\n",
       "  </thead>\n",
       "  <tbody>\n",
       "    <tr>\n",
       "      <th>LogisticRegression() _ Train Details</th>\n",
       "      <td>95</td>\n",
       "      <td>0</td>\n",
       "      <td>0</td>\n",
       "      <td>0</td>\n",
       "    </tr>\n",
       "    <tr>\n",
       "      <th>LogisticRegression() _ Test Details</th>\n",
       "      <td>95</td>\n",
       "      <td>0</td>\n",
       "      <td>0</td>\n",
       "      <td>0</td>\n",
       "    </tr>\n",
       "    <tr>\n",
       "      <th>KNeighborsClassifier() _ Train Details</th>\n",
       "      <td>92</td>\n",
       "      <td>33</td>\n",
       "      <td>28</td>\n",
       "      <td>40</td>\n",
       "    </tr>\n",
       "    <tr>\n",
       "      <th>KNeighborsClassifier() _ Test Details</th>\n",
       "      <td>92</td>\n",
       "      <td>35</td>\n",
       "      <td>30</td>\n",
       "      <td>42</td>\n",
       "    </tr>\n",
       "    <tr>\n",
       "      <th>DecisionTreeClassifier() _ Train Details</th>\n",
       "      <td>96</td>\n",
       "      <td>31</td>\n",
       "      <td>80</td>\n",
       "      <td>19</td>\n",
       "    </tr>\n",
       "    <tr>\n",
       "      <th>DecisionTreeClassifier() _ Test Details</th>\n",
       "      <td>95</td>\n",
       "      <td>24</td>\n",
       "      <td>68</td>\n",
       "      <td>15</td>\n",
       "    </tr>\n",
       "    <tr>\n",
       "      <th>ExtraTreeClassifier() _ Train Details</th>\n",
       "      <td>96</td>\n",
       "      <td>31</td>\n",
       "      <td>80</td>\n",
       "      <td>19</td>\n",
       "    </tr>\n",
       "    <tr>\n",
       "      <th>ExtraTreeClassifier() _ Test Details</th>\n",
       "      <td>95</td>\n",
       "      <td>22</td>\n",
       "      <td>61</td>\n",
       "      <td>14</td>\n",
       "    </tr>\n",
       "    <tr>\n",
       "      <th>RandomForestClassifier() _ Train Details</th>\n",
       "      <td>96</td>\n",
       "      <td>32</td>\n",
       "      <td>77</td>\n",
       "      <td>20</td>\n",
       "    </tr>\n",
       "    <tr>\n",
       "      <th>RandomForestClassifier() _ Test Details</th>\n",
       "      <td>95</td>\n",
       "      <td>25</td>\n",
       "      <td>72</td>\n",
       "      <td>15</td>\n",
       "    </tr>\n",
       "    <tr>\n",
       "      <th>ExtraTreesClassifier() _ Train Details</th>\n",
       "      <td>96</td>\n",
       "      <td>31</td>\n",
       "      <td>80</td>\n",
       "      <td>19</td>\n",
       "    </tr>\n",
       "    <tr>\n",
       "      <th>ExtraTreesClassifier() _ Test Details</th>\n",
       "      <td>95</td>\n",
       "      <td>24</td>\n",
       "      <td>76</td>\n",
       "      <td>14</td>\n",
       "    </tr>\n",
       "  </tbody>\n",
       "</table>\n",
       "</div>"
      ],
      "text/plain": [
       "                                         Accuracy F1_score Precision Recall\n",
       "LogisticRegression() _ Train Details           95        0         0      0\n",
       "LogisticRegression() _ Test Details            95        0         0      0\n",
       "KNeighborsClassifier() _ Train Details         92       33        28     40\n",
       "KNeighborsClassifier() _ Test Details          92       35        30     42\n",
       "DecisionTreeClassifier() _ Train Details       96       31        80     19\n",
       "DecisionTreeClassifier() _ Test Details        95       24        68     15\n",
       "ExtraTreeClassifier() _ Train Details          96       31        80     19\n",
       "ExtraTreeClassifier() _ Test Details           95       22        61     14\n",
       "RandomForestClassifier() _ Train Details       96       32        77     20\n",
       "RandomForestClassifier() _ Test Details        95       25        72     15\n",
       "ExtraTreesClassifier() _ Train Details         96       31        80     19\n",
       "ExtraTreesClassifier() _ Test Details          95       24        76     14"
      ]
     },
     "execution_count": 159,
     "metadata": {},
     "output_type": "execute_result"
    }
   ],
   "source": [
    "list_of_models = [LogisticRegression() , KNeighborsClassifier() , \n",
    "                  DecisionTreeClassifier() ,ExtraTreeClassifier(), RandomForestClassifier(),ExtraTreesClassifier()]\n",
    "classification_report = pd.DataFrame(columns=['Accuracy','F1_score','Precision','Recall'])\n",
    "\n",
    "for model in list_of_models :\n",
    "    model = model.fit(x_train , y_train)\n",
    "    for i in range(2) :\n",
    "        if i == 0 :\n",
    "            to_pred = x_train\n",
    "            pred = y_train\n",
    "            title = 'Train'\n",
    "            \n",
    "        else :\n",
    "            to_pred = x_test\n",
    "            pred = y_test\n",
    "            title = 'Test'\n",
    "        y_pred = model.predict(to_pred)\n",
    "        acc = round(accuracy_score(pred , y_pred)*100)\n",
    "        f1 = round(f1_score(pred , y_pred)*100)\n",
    "        prec = round(precision_score(pred , y_pred)*100)\n",
    "        recall = round(recall_score(pred , y_pred)*100)\n",
    "        d = pd.DataFrame(data=np.array([acc,f1,prec,recall]).reshape(1,4) \n",
    "                     , columns=['Accuracy' , 'F1_score' , 'Precision' , 'Recall'])  \n",
    "        classification_report = pd.concat([classification_report , d])\n",
    "        classification_report.rename( index= { 0 :'{} _ {} Details'.format(model , title) } ,inplace=True )\n",
    "pd.options.display.max_rows = 15\n",
    "classification_report"
   ]
  },
  {
   "cell_type": "code",
   "execution_count": 160,
   "metadata": {},
   "outputs": [],
   "source": [
    "x = dataset.loc[:, dataset.columns.isin(['has_company_logo', 'has questions','employment_type','required_experience','required_education',  'telecommuting' ])]\n",
    "y = dataset['fraudulent']\n",
    "x_train, x_test, y_train, y_test = train_test_split(x, y, test_size = 0.3 , random_state = 42)\n"
   ]
  },
  {
   "cell_type": "code",
   "execution_count": 161,
   "metadata": {},
   "outputs": [
    {
     "data": {
      "text/html": [
       "<div>\n",
       "<style scoped>\n",
       "    .dataframe tbody tr th:only-of-type {\n",
       "        vertical-align: middle;\n",
       "    }\n",
       "\n",
       "    .dataframe tbody tr th {\n",
       "        vertical-align: top;\n",
       "    }\n",
       "\n",
       "    .dataframe thead th {\n",
       "        text-align: right;\n",
       "    }\n",
       "</style>\n",
       "<table border=\"1\" class=\"dataframe\">\n",
       "  <thead>\n",
       "    <tr style=\"text-align: right;\">\n",
       "      <th></th>\n",
       "      <th>Accuracy</th>\n",
       "      <th>F1_score</th>\n",
       "      <th>Precision</th>\n",
       "      <th>Recall</th>\n",
       "    </tr>\n",
       "  </thead>\n",
       "  <tbody>\n",
       "    <tr>\n",
       "      <th>LogisticRegression() _ Train Details</th>\n",
       "      <td>95</td>\n",
       "      <td>0</td>\n",
       "      <td>0</td>\n",
       "      <td>0</td>\n",
       "    </tr>\n",
       "    <tr>\n",
       "      <th>LogisticRegression() _ Test Details</th>\n",
       "      <td>95</td>\n",
       "      <td>0</td>\n",
       "      <td>0</td>\n",
       "      <td>0</td>\n",
       "    </tr>\n",
       "    <tr>\n",
       "      <th>KNeighborsClassifier() _ Train Details</th>\n",
       "      <td>95</td>\n",
       "      <td>11</td>\n",
       "      <td>50</td>\n",
       "      <td>6</td>\n",
       "    </tr>\n",
       "    <tr>\n",
       "      <th>KNeighborsClassifier() _ Test Details</th>\n",
       "      <td>95</td>\n",
       "      <td>9</td>\n",
       "      <td>45</td>\n",
       "      <td>5</td>\n",
       "    </tr>\n",
       "    <tr>\n",
       "      <th>DecisionTreeClassifier() _ Train Details</th>\n",
       "      <td>96</td>\n",
       "      <td>19</td>\n",
       "      <td>76</td>\n",
       "      <td>11</td>\n",
       "    </tr>\n",
       "    <tr>\n",
       "      <th>DecisionTreeClassifier() _ Test Details</th>\n",
       "      <td>95</td>\n",
       "      <td>18</td>\n",
       "      <td>73</td>\n",
       "      <td>10</td>\n",
       "    </tr>\n",
       "    <tr>\n",
       "      <th>ExtraTreeClassifier() _ Train Details</th>\n",
       "      <td>96</td>\n",
       "      <td>19</td>\n",
       "      <td>76</td>\n",
       "      <td>11</td>\n",
       "    </tr>\n",
       "    <tr>\n",
       "      <th>ExtraTreeClassifier() _ Test Details</th>\n",
       "      <td>95</td>\n",
       "      <td>18</td>\n",
       "      <td>75</td>\n",
       "      <td>10</td>\n",
       "    </tr>\n",
       "    <tr>\n",
       "      <th>RandomForestClassifier() _ Train Details</th>\n",
       "      <td>96</td>\n",
       "      <td>19</td>\n",
       "      <td>76</td>\n",
       "      <td>11</td>\n",
       "    </tr>\n",
       "    <tr>\n",
       "      <th>RandomForestClassifier() _ Test Details</th>\n",
       "      <td>95</td>\n",
       "      <td>18</td>\n",
       "      <td>77</td>\n",
       "      <td>10</td>\n",
       "    </tr>\n",
       "    <tr>\n",
       "      <th>ExtraTreesClassifier() _ Train Details</th>\n",
       "      <td>96</td>\n",
       "      <td>19</td>\n",
       "      <td>76</td>\n",
       "      <td>11</td>\n",
       "    </tr>\n",
       "    <tr>\n",
       "      <th>ExtraTreesClassifier() _ Test Details</th>\n",
       "      <td>95</td>\n",
       "      <td>18</td>\n",
       "      <td>77</td>\n",
       "      <td>10</td>\n",
       "    </tr>\n",
       "  </tbody>\n",
       "</table>\n",
       "</div>"
      ],
      "text/plain": [
       "                                         Accuracy F1_score Precision Recall\n",
       "LogisticRegression() _ Train Details           95        0         0      0\n",
       "LogisticRegression() _ Test Details            95        0         0      0\n",
       "KNeighborsClassifier() _ Train Details         95       11        50      6\n",
       "KNeighborsClassifier() _ Test Details          95        9        45      5\n",
       "DecisionTreeClassifier() _ Train Details       96       19        76     11\n",
       "DecisionTreeClassifier() _ Test Details        95       18        73     10\n",
       "ExtraTreeClassifier() _ Train Details          96       19        76     11\n",
       "ExtraTreeClassifier() _ Test Details           95       18        75     10\n",
       "RandomForestClassifier() _ Train Details       96       19        76     11\n",
       "RandomForestClassifier() _ Test Details        95       18        77     10\n",
       "ExtraTreesClassifier() _ Train Details         96       19        76     11\n",
       "ExtraTreesClassifier() _ Test Details          95       18        77     10"
      ]
     },
     "execution_count": 161,
     "metadata": {},
     "output_type": "execute_result"
    }
   ],
   "source": [
    "list_of_models = [LogisticRegression() , KNeighborsClassifier() , \n",
    "                  DecisionTreeClassifier() ,ExtraTreeClassifier(), RandomForestClassifier(),ExtraTreesClassifier()]\n",
    "classification_report = pd.DataFrame(columns=['Accuracy','F1_score','Precision','Recall'])\n",
    "\n",
    "for model in list_of_models :\n",
    "    model = model.fit(x_train , y_train)\n",
    "    for i in range(2) :\n",
    "        if i == 0 :\n",
    "            to_pred = x_train\n",
    "            pred = y_train\n",
    "            title = 'Train'\n",
    "            \n",
    "        else :\n",
    "            to_pred = x_test\n",
    "            pred = y_test\n",
    "            title = 'Test'\n",
    "        y_pred = model.predict(to_pred)\n",
    "        acc = round(accuracy_score(pred , y_pred)*100)\n",
    "        f1 = round(f1_score(pred , y_pred)*100)\n",
    "        prec = round(precision_score(pred , y_pred)*100)\n",
    "        recall = round(recall_score(pred , y_pred)*100)\n",
    "        d = pd.DataFrame(data=np.array([acc,f1,prec,recall]).reshape(1,4) \n",
    "                     , columns=['Accuracy' , 'F1_score' , 'Precision' , 'Recall'])  \n",
    "        classification_report = pd.concat([classification_report , d])\n",
    "        classification_report.rename( index= { 0 :'{} _ {} Details'.format(model , title) } ,inplace=True )\n",
    "pd.options.display.max_rows = 15\n",
    "classification_report"
   ]
  },
  {
   "cell_type": "code",
   "execution_count": 162,
   "metadata": {},
   "outputs": [],
   "source": [
    "## if we do with text"
   ]
  },
  {
   "cell_type": "code",
   "execution_count": 163,
   "metadata": {},
   "outputs": [],
   "source": [
    "from sklearn.pipeline import Pipeline"
   ]
  },
  {
   "cell_type": "code",
   "execution_count": 164,
   "metadata": {},
   "outputs": [],
   "source": [
    "from sklearn.feature_extraction.text import TfidfVectorizer, CountVectorizer\n",
    "from sklearn.model_selection import train_test_split\n",
    "from sklearn.pipeline import Pipeline\n",
    "from sklearn.base import TransformerMixin\n",
    "from sklearn.metrics import accuracy_score, recall_score, plot_confusion_matrix\n"
   ]
  },
  {
   "cell_type": "code",
   "execution_count": 165,
   "metadata": {},
   "outputs": [],
   "source": [
    "def tokenizer(sentence):\n",
    "   \n",
    "    mytokens = [ word for word in sentence]\n",
    "\n",
    "    # return preprocessed list of tokens\n",
    "    return mytokens"
   ]
  },
  {
   "cell_type": "code",
   "execution_count": 166,
   "metadata": {},
   "outputs": [],
   "source": [
    "bow_vector = CountVectorizer(tokenizer = tokenizer, ngram_range=(1,3))"
   ]
  },
  {
   "cell_type": "code",
   "execution_count": 169,
   "metadata": {},
   "outputs": [],
   "source": [
    "X_train, X_test, y_train, y_test = train_test_split(dataset.full_text, dataset.fraudulent, test_size=0.3)"
   ]
  },
  {
   "cell_type": "code",
   "execution_count": 172,
   "metadata": {},
   "outputs": [
    {
     "data": {
      "text/plain": [
       "Pipeline(steps=[('vectorizer',\n",
       "                 CountVectorizer(ngram_range=(1, 3),\n",
       "                                 tokenizer=<function tokenizer at 0x7fa7bdfa7e50>)),\n",
       "                ('classifier', LogisticRegression())])"
      ]
     },
     "execution_count": 172,
     "metadata": {},
     "output_type": "execute_result"
    }
   ],
   "source": [
    "## logistic regression with BoW\n",
    "clf = LogisticRegression()\n",
    "\n",
    "# Create pipeline using Bag of Words\n",
    "pipe = Pipeline([\n",
    "                 ('vectorizer', bow_vector),\n",
    "                 ('classifier', clf)])\n",
    "\n",
    "# fitting our model.\n",
    "pipe.fit(X_train,y_train)\n"
   ]
  },
  {
   "cell_type": "code",
   "execution_count": 173,
   "metadata": {},
   "outputs": [
    {
     "name": "stdout",
     "output_type": "stream",
     "text": [
      "Logistic Regression Accuracy: 0.9743638435244968\n",
      "Logistic Regression Recall: 0.678714859437751\n"
     ]
    }
   ],
   "source": [
    "predicted = pipe.predict(X_test)\n",
    "\n",
    "# Model Accuracy\n",
    "print(\"Logistic Regression Accuracy:\", accuracy_score(y_test, predicted))\n",
    "print(\"Logistic Regression Recall:\", recall_score(y_test, predicted))"
   ]
  },
  {
   "cell_type": "code",
   "execution_count": 174,
   "metadata": {},
   "outputs": [
    {
     "data": {
      "text/plain": [
       "<sklearn.metrics._plot.confusion_matrix.ConfusionMatrixDisplay at 0x7fa7be067250>"
      ]
     },
     "execution_count": 174,
     "metadata": {},
     "output_type": "execute_result"
    },
    {
     "data": {
      "image/png": "[encoded data removed]",
      "text/plain": [
       "<Figure size 640x480 with 2 Axes>"
      ]
     },
     "metadata": {},
     "output_type": "display_data"
    }
   ],
   "source": [
    "plot_confusion_matrix(pipe, X_test, y_test, cmap='Blues', values_format=' ')"
   ]
  },
  {
   "cell_type": "code",
   "execution_count": 175,
   "metadata": {},
   "outputs": [
    {
     "data": {
      "text/plain": [
       "Pipeline(steps=[('vectorizer',\n",
       "                 CountVectorizer(ngram_range=(1, 3),\n",
       "                                 tokenizer=<function tokenizer at 0x7fa7bdfa7e50>)),\n",
       "                ('classifier', RandomForestClassifier())])"
      ]
     },
     "execution_count": 175,
     "metadata": {},
     "output_type": "execute_result"
    }
   ],
   "source": [
    "clf = RandomForestClassifier()\n",
    "\n",
    "# Create pipeline using Bag of Words\n",
    "pipe = Pipeline([\n",
    "                 ('vectorizer', bow_vector),\n",
    "                 ('classifier', clf)])\n",
    "\n",
    "# fitting our model.\n",
    "pipe.fit(X_train,y_train)"
   ]
  },
  {
   "cell_type": "code",
   "execution_count": 176,
   "metadata": {},
   "outputs": [
    {
     "name": "stdout",
     "output_type": "stream",
     "text": [
      "Random Forest Accuracy: 0.9791112799088493\n",
      "Random Forest Recall: 0.570281124497992\n"
     ]
    }
   ],
   "source": [
    "# Predicting with a test dataset\n",
    "predicted = pipe.predict(X_test)\n",
    "\n",
    "# Model Accuracy\n",
    "print(\"Random Forest Accuracy:\", accuracy_score(y_test, predicted))\n",
    "print(\"Random Forest Recall:\", recall_score(y_test, predicted))"
   ]
  },
  {
   "cell_type": "code",
   "execution_count": 177,
   "metadata": {},
   "outputs": [
    {
     "data": {
      "text/plain": [
       "<sklearn.metrics._plot.confusion_matrix.ConfusionMatrixDisplay at 0x7fa7ad6a7580>"
      ]
     },
     "execution_count": 177,
     "metadata": {},
     "output_type": "execute_result"
    },
    {
     "data": {
      "image/png": "[encoded data removed]",
      "text/plain": [
       "<Figure size 640x480 with 2 Axes>"
      ]
     },
     "metadata": {},
     "output_type": "display_data"
    }
   ],
   "source": [
    "plot_confusion_matrix(pipe, X_test, y_test, cmap='Blues', values_format=' ')"
   ]
  },
  {
   "cell_type": "code",
   "execution_count": 178,
   "metadata": {},
   "outputs": [
    {
     "data": {
      "text/plain": [
       "Pipeline(steps=[('vectorizer',\n",
       "                 CountVectorizer(ngram_range=(1, 3),\n",
       "                                 tokenizer=<function tokenizer at 0x7fa7bdfa7e50>)),\n",
       "                ('classifier', SVC())])"
      ]
     },
     "execution_count": 178,
     "metadata": {},
     "output_type": "execute_result"
    }
   ],
   "source": [
    "from sklearn.svm import SVC\n",
    "clf = SVC()\n",
    "\n",
    "# Create pipeline using Bag of Words\n",
    "pipe = Pipeline([\n",
    "                 ('vectorizer', bow_vector),\n",
    "                 ('classifier', clf)])\n",
    "\n",
    "# fitting our model.\n",
    "pipe.fit(X_train,y_train)"
   ]
  },
  {
   "cell_type": "code",
   "execution_count": 180,
   "metadata": {},
   "outputs": [
    {
     "name": "stdout",
     "output_type": "stream",
     "text": [
      "SVC Accuracy: 0.9527155336118496\n",
      "SVC Recall: 0.0\n"
     ]
    }
   ],
   "source": [
    "# Predicting with a test dataset\n",
    "predicted = pipe.predict(X_test)\n",
    "\n",
    "# Model Accuracy\n",
    "print(\"SVC Accuracy:\", accuracy_score(y_test, predicted))\n",
    "print(\"SVC Recall:\", recall_score(y_test, predicted))"
   ]
  },
  {
   "cell_type": "code",
   "execution_count": 179,
   "metadata": {},
   "outputs": [
    {
     "data": {
      "text/plain": [
       "<sklearn.metrics._plot.confusion_matrix.ConfusionMatrixDisplay at 0x7fa7ab6fafd0>"
      ]
     },
     "execution_count": 179,
     "metadata": {},
     "output_type": "execute_result"
    },
    {
     "data": {
      "image/png": "[encoded data removed]",
      "text/plain": [
       "<Figure size 640x480 with 2 Axes>"
      ]
     },
     "metadata": {},
     "output_type": "display_data"
    }
   ],
   "source": [
    "plot_confusion_matrix(pipe, X_test, y_test, cmap='Blues', values_format=' ')\n"
   ]
  },
  {
   "cell_type": "markdown",
   "metadata": {},
   "source": [
    "# SVC is not very good at this task -- just simply predict everything as 0"
   ]
  },
  {
   "cell_type": "code",
   "execution_count": null,
   "metadata": {},
   "outputs": [],
   "source": []
  }
 ],
 "metadata": {
  "kernelspec": {
   "display_name": "base",
   "language": "python",
   "name": "python3"
  },
  "language_info": {
   "codemirror_mode": {
    "name": "ipython",
    "version": 3
   },
   "file_extension": ".py",
   "mimetype": "text/x-python",
   "name": "python",
   "nbconvert_exporter": "python",
   "pygments_lexer": "ipython3",
   "version": "3.9.13"
  },
  "orig_nbformat": 4
 },
 "nbformat": 4,
 "nbformat_minor": 2
}
